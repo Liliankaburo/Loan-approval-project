{
 "cells": [
  {
   "cell_type": "markdown",
   "metadata": {},
   "source": [
    "# BANK LOAN APPROVAL CLASSIFICATION PROJECT\n",
    "\n",
    "###  Student Name : Lilian Kaburo\n",
    "###  Student Pace : Hybrid\n",
    "###  TM : Maryann Mwikali"
   ]
  },
  {
   "cell_type": "markdown",
   "metadata": {},
   "source": [
    "# Step1.  BUSINESS  UNDERSTANDING"
   ]
  },
  {
   "cell_type": "markdown",
   "metadata": {},
   "source": [
    "### 1.0 Introduction/Overview"
   ]
  },
  {
   "cell_type": "markdown",
   "metadata": {},
   "source": [
    "In today's fast-paced financial world, banks and lenders face mounting pressure to make quick and accurate decisions about loan applications. The old-school method of manually evaluating loans, which relies heavily on human judgment and subjective criteria, tends to be slow, prone to mistakes, and inconsistent. To tackle these issues, many financial institutions are now embracing data-driven strategies, particularly machine learning, to streamline and improve the loan approval process.\n",
    "\n",
    "The Bank Loan Approval Classification Project is designed to develop a machine learning model that predicts whether a loan application should be approved or rejected based on a set of features related to the applicant's financial history, personal information, and other relevant criteria. The objective is to build a classification model that can assist bank decision-makers by providing quick, objective, and accurate recommendations for loan approval."
   ]
  },
  {
   "cell_type": "markdown",
   "metadata": {},
   "source": [
    "### 1.1  Stakeholders\n",
    "1. Banks/ lending institution\n",
    "2. Risk management department\n",
    "3. Loan Officers/ Underwriting Team\n",
    "4. Customers/ Loan Applicants\n",
    "5. External Regulators (government agencies)"
   ]
  },
  {
   "cell_type": "markdown",
   "metadata": {},
   "source": [
    "### 1.2  Key Objectives\n",
    "\n",
    "\n",
    "1. What is the main challenge of this project?---How can we create a predictive model to classify loan applications as either approved or denied?\n",
    "\n",
    "\n",
    "2. What key factors should the model take into account when deciding on loan approvals?---How can we include various factors such as income, credit score, loan amount, and employment status into the model to mirror the bank’s decision-making process?\n",
    "\n",
    "\n",
    "3. What data do we have available for training the model?---What features of the loan applicants (e.g., age, education level, credit history) are present in the dataset, and how do they correlate with loan approval status (approved or denied)?\n",
    "\n",
    "\n",
    "4. How can machine learning techniques be applied to address this issue?---How can we utilize machine learning methods to develop a model that accurately predicts whether a new loan application will be approved or denied?\n",
    "\n",
    "\n",
    "5. What is the main objective of this project?---How can we automate the loan approval decision-making process by developing a predictive model, and what level of accuracy is necessary for practical implementation?\n",
    "\n",
    "\n",
    "\n"
   ]
  },
  {
   "cell_type": "markdown",
   "metadata": {},
   "source": [
    "# Step2.  DATA UNDERSTANDING\n",
    "\n",
    " The Dataset we are using is obtained from https://www.kaggle.com/datasets/. The Bank loan approval dataset contains information about the loan Applicants that will be used to determine if they get approved for a new loan or not.\n",
    " \n",
    " we are going to use this dataset to;\n",
    " \n",
    "\n",
    "1. Develop predictive models to classify loan applications as approved or denied.\n",
    "\n",
    "2. Analyze key factors that influence loan approval decisions.\n",
    "\n",
    "3. Improve the efficiency and accuracy of loan approval processes through data-driven insights.\n",
    "\n",
    "We are going to use python pandas,numpy and other python libraries to explore and understand the data more."
   ]
  },
  {
   "cell_type": "markdown",
   "metadata": {},
   "source": [
    "### 2.0   Importing Libraries"
   ]
  },
  {
   "cell_type": "code",
   "execution_count": 1,
   "metadata": {},
   "outputs": [],
   "source": [
    "import pandas as pd\n",
    "import numpy as np\n",
    "import matplotlib.pyplot as plt\n",
    "import seaborn as sns\n",
    "from sklearn.preprocessing import StandardScaler, LabelEncoder\n",
    "from sklearn.model_selection import train_test_split, GridSearchCV\n",
    "from sklearn.tree import DecisionTreeClassifier\n",
    "from sklearn.metrics import confusion_matrix, roc_curve,roc_auc_score, accuracy_score, classification_report, precision_score, recall_score, f1_score\n",
    "from sklearn.linear_model import LogisticRegression\n",
    "from sklearn.ensemble import RandomForestClassifier, GradientBoostingClassifier, VotingClassifier\n",
    "#from imblearn.over_sampling import SMOTE\n",
    "from xgboost import XGBClassifier\n",
    "from sklearn.neighbors import KNeighborsClassifier\n",
    "from sklearn.feature_selection import SelectFromModel\n",
    "from scipy import stats\n",
    "from scipy.stats import zscore\n",
    "import warnings\n",
    "warnings.filterwarnings('ignore')\n",
    "sns.set_style('darkgrid')\n",
    "%matplotlib inline\n",
    "from sklearn.svm import SVC"
   ]
  },
  {
   "cell_type": "markdown",
   "metadata": {},
   "source": [
    "### 2.1  Loading the Dataset"
   ]
  },
  {
   "cell_type": "code",
   "execution_count": 2,
   "metadata": {},
   "outputs": [
    {
     "data": {
      "text/html": [
       "<div>\n",
       "<style scoped>\n",
       "    .dataframe tbody tr th:only-of-type {\n",
       "        vertical-align: middle;\n",
       "    }\n",
       "\n",
       "    .dataframe tbody tr th {\n",
       "        vertical-align: top;\n",
       "    }\n",
       "\n",
       "    .dataframe thead th {\n",
       "        text-align: right;\n",
       "    }\n",
       "</style>\n",
       "<table border=\"1\" class=\"dataframe\">\n",
       "  <thead>\n",
       "    <tr style=\"text-align: right;\">\n",
       "      <th></th>\n",
       "      <th>person_gender</th>\n",
       "      <th>person_education</th>\n",
       "      <th>person_income</th>\n",
       "      <th>person_emp_exp</th>\n",
       "      <th>person_home_ownership</th>\n",
       "      <th>loan_amnt</th>\n",
       "      <th>loan_intent</th>\n",
       "      <th>loan_int_rate</th>\n",
       "      <th>loan_percent_income</th>\n",
       "      <th>cb_person_cred_hist_length</th>\n",
       "      <th>credit_score</th>\n",
       "      <th>previous_loan_defaults_on_file</th>\n",
       "      <th>loan_status</th>\n",
       "    </tr>\n",
       "    <tr>\n",
       "      <th>person_age</th>\n",
       "      <th></th>\n",
       "      <th></th>\n",
       "      <th></th>\n",
       "      <th></th>\n",
       "      <th></th>\n",
       "      <th></th>\n",
       "      <th></th>\n",
       "      <th></th>\n",
       "      <th></th>\n",
       "      <th></th>\n",
       "      <th></th>\n",
       "      <th></th>\n",
       "      <th></th>\n",
       "    </tr>\n",
       "  </thead>\n",
       "  <tbody>\n",
       "    <tr>\n",
       "      <th>22.0</th>\n",
       "      <td>female</td>\n",
       "      <td>Master</td>\n",
       "      <td>71948.0</td>\n",
       "      <td>0</td>\n",
       "      <td>RENT</td>\n",
       "      <td>35000.0</td>\n",
       "      <td>PERSONAL</td>\n",
       "      <td>16.02</td>\n",
       "      <td>0.49</td>\n",
       "      <td>3.0</td>\n",
       "      <td>561</td>\n",
       "      <td>No</td>\n",
       "      <td>1</td>\n",
       "    </tr>\n",
       "    <tr>\n",
       "      <th>21.0</th>\n",
       "      <td>female</td>\n",
       "      <td>High School</td>\n",
       "      <td>12282.0</td>\n",
       "      <td>0</td>\n",
       "      <td>OWN</td>\n",
       "      <td>1000.0</td>\n",
       "      <td>EDUCATION</td>\n",
       "      <td>11.14</td>\n",
       "      <td>0.08</td>\n",
       "      <td>2.0</td>\n",
       "      <td>504</td>\n",
       "      <td>Yes</td>\n",
       "      <td>0</td>\n",
       "    </tr>\n",
       "    <tr>\n",
       "      <th>25.0</th>\n",
       "      <td>female</td>\n",
       "      <td>High School</td>\n",
       "      <td>12438.0</td>\n",
       "      <td>3</td>\n",
       "      <td>MORTGAGE</td>\n",
       "      <td>5500.0</td>\n",
       "      <td>MEDICAL</td>\n",
       "      <td>12.87</td>\n",
       "      <td>0.44</td>\n",
       "      <td>3.0</td>\n",
       "      <td>635</td>\n",
       "      <td>No</td>\n",
       "      <td>1</td>\n",
       "    </tr>\n",
       "    <tr>\n",
       "      <th>23.0</th>\n",
       "      <td>female</td>\n",
       "      <td>Bachelor</td>\n",
       "      <td>79753.0</td>\n",
       "      <td>0</td>\n",
       "      <td>RENT</td>\n",
       "      <td>35000.0</td>\n",
       "      <td>MEDICAL</td>\n",
       "      <td>15.23</td>\n",
       "      <td>0.44</td>\n",
       "      <td>2.0</td>\n",
       "      <td>675</td>\n",
       "      <td>No</td>\n",
       "      <td>1</td>\n",
       "    </tr>\n",
       "    <tr>\n",
       "      <th>24.0</th>\n",
       "      <td>male</td>\n",
       "      <td>Master</td>\n",
       "      <td>66135.0</td>\n",
       "      <td>1</td>\n",
       "      <td>RENT</td>\n",
       "      <td>35000.0</td>\n",
       "      <td>MEDICAL</td>\n",
       "      <td>14.27</td>\n",
       "      <td>0.53</td>\n",
       "      <td>4.0</td>\n",
       "      <td>586</td>\n",
       "      <td>No</td>\n",
       "      <td>1</td>\n",
       "    </tr>\n",
       "    <tr>\n",
       "      <th>21.0</th>\n",
       "      <td>female</td>\n",
       "      <td>High School</td>\n",
       "      <td>12951.0</td>\n",
       "      <td>0</td>\n",
       "      <td>OWN</td>\n",
       "      <td>2500.0</td>\n",
       "      <td>VENTURE</td>\n",
       "      <td>7.14</td>\n",
       "      <td>0.19</td>\n",
       "      <td>2.0</td>\n",
       "      <td>532</td>\n",
       "      <td>No</td>\n",
       "      <td>1</td>\n",
       "    </tr>\n",
       "    <tr>\n",
       "      <th>26.0</th>\n",
       "      <td>female</td>\n",
       "      <td>Bachelor</td>\n",
       "      <td>93471.0</td>\n",
       "      <td>1</td>\n",
       "      <td>RENT</td>\n",
       "      <td>35000.0</td>\n",
       "      <td>EDUCATION</td>\n",
       "      <td>12.42</td>\n",
       "      <td>0.37</td>\n",
       "      <td>3.0</td>\n",
       "      <td>701</td>\n",
       "      <td>No</td>\n",
       "      <td>1</td>\n",
       "    </tr>\n",
       "    <tr>\n",
       "      <th>24.0</th>\n",
       "      <td>female</td>\n",
       "      <td>High School</td>\n",
       "      <td>95550.0</td>\n",
       "      <td>5</td>\n",
       "      <td>RENT</td>\n",
       "      <td>35000.0</td>\n",
       "      <td>MEDICAL</td>\n",
       "      <td>11.11</td>\n",
       "      <td>0.37</td>\n",
       "      <td>4.0</td>\n",
       "      <td>585</td>\n",
       "      <td>No</td>\n",
       "      <td>1</td>\n",
       "    </tr>\n",
       "    <tr>\n",
       "      <th>24.0</th>\n",
       "      <td>female</td>\n",
       "      <td>Associate</td>\n",
       "      <td>100684.0</td>\n",
       "      <td>3</td>\n",
       "      <td>RENT</td>\n",
       "      <td>35000.0</td>\n",
       "      <td>PERSONAL</td>\n",
       "      <td>8.90</td>\n",
       "      <td>0.35</td>\n",
       "      <td>2.0</td>\n",
       "      <td>544</td>\n",
       "      <td>No</td>\n",
       "      <td>1</td>\n",
       "    </tr>\n",
       "    <tr>\n",
       "      <th>21.0</th>\n",
       "      <td>female</td>\n",
       "      <td>High School</td>\n",
       "      <td>12739.0</td>\n",
       "      <td>0</td>\n",
       "      <td>OWN</td>\n",
       "      <td>1600.0</td>\n",
       "      <td>VENTURE</td>\n",
       "      <td>14.74</td>\n",
       "      <td>0.13</td>\n",
       "      <td>3.0</td>\n",
       "      <td>640</td>\n",
       "      <td>No</td>\n",
       "      <td>1</td>\n",
       "    </tr>\n",
       "  </tbody>\n",
       "</table>\n",
       "</div>"
      ],
      "text/plain": [
       "           person_gender person_education  person_income  person_emp_exp  \\\n",
       "person_age                                                                 \n",
       "22.0              female           Master        71948.0               0   \n",
       "21.0              female      High School        12282.0               0   \n",
       "25.0              female      High School        12438.0               3   \n",
       "23.0              female         Bachelor        79753.0               0   \n",
       "24.0                male           Master        66135.0               1   \n",
       "21.0              female      High School        12951.0               0   \n",
       "26.0              female         Bachelor        93471.0               1   \n",
       "24.0              female      High School        95550.0               5   \n",
       "24.0              female        Associate       100684.0               3   \n",
       "21.0              female      High School        12739.0               0   \n",
       "\n",
       "           person_home_ownership  loan_amnt loan_intent  loan_int_rate  \\\n",
       "person_age                                                               \n",
       "22.0                        RENT    35000.0    PERSONAL          16.02   \n",
       "21.0                         OWN     1000.0   EDUCATION          11.14   \n",
       "25.0                    MORTGAGE     5500.0     MEDICAL          12.87   \n",
       "23.0                        RENT    35000.0     MEDICAL          15.23   \n",
       "24.0                        RENT    35000.0     MEDICAL          14.27   \n",
       "21.0                         OWN     2500.0     VENTURE           7.14   \n",
       "26.0                        RENT    35000.0   EDUCATION          12.42   \n",
       "24.0                        RENT    35000.0     MEDICAL          11.11   \n",
       "24.0                        RENT    35000.0    PERSONAL           8.90   \n",
       "21.0                         OWN     1600.0     VENTURE          14.74   \n",
       "\n",
       "            loan_percent_income  cb_person_cred_hist_length  credit_score  \\\n",
       "person_age                                                                  \n",
       "22.0                       0.49                         3.0           561   \n",
       "21.0                       0.08                         2.0           504   \n",
       "25.0                       0.44                         3.0           635   \n",
       "23.0                       0.44                         2.0           675   \n",
       "24.0                       0.53                         4.0           586   \n",
       "21.0                       0.19                         2.0           532   \n",
       "26.0                       0.37                         3.0           701   \n",
       "24.0                       0.37                         4.0           585   \n",
       "24.0                       0.35                         2.0           544   \n",
       "21.0                       0.13                         3.0           640   \n",
       "\n",
       "           previous_loan_defaults_on_file  loan_status  \n",
       "person_age                                              \n",
       "22.0                                   No            1  \n",
       "21.0                                  Yes            0  \n",
       "25.0                                   No            1  \n",
       "23.0                                   No            1  \n",
       "24.0                                   No            1  \n",
       "21.0                                   No            1  \n",
       "26.0                                   No            1  \n",
       "24.0                                   No            1  \n",
       "24.0                                   No            1  \n",
       "21.0                                   No            1  "
      ]
     },
     "execution_count": 2,
     "metadata": {},
     "output_type": "execute_result"
    }
   ],
   "source": [
    "# load the dataset and display the first ten rows \n",
    "loan=pd.read_csv('loan_data.csv', index_col=0)\n",
    "loan.head(10)"
   ]
  },
  {
   "cell_type": "markdown",
   "metadata": {},
   "source": [
    "### 2.2 Get the Summary of the dataframe"
   ]
  },
  {
   "cell_type": "code",
   "execution_count": 3,
   "metadata": {},
   "outputs": [
    {
     "name": "stdout",
     "output_type": "stream",
     "text": [
      "<class 'pandas.core.frame.DataFrame'>\n",
      "Index: 45000 entries, 22.0 to 24.0\n",
      "Data columns (total 13 columns):\n",
      " #   Column                          Non-Null Count  Dtype  \n",
      "---  ------                          --------------  -----  \n",
      " 0   person_gender                   45000 non-null  object \n",
      " 1   person_education                45000 non-null  object \n",
      " 2   person_income                   45000 non-null  float64\n",
      " 3   person_emp_exp                  45000 non-null  int64  \n",
      " 4   person_home_ownership           45000 non-null  object \n",
      " 5   loan_amnt                       45000 non-null  float64\n",
      " 6   loan_intent                     45000 non-null  object \n",
      " 7   loan_int_rate                   45000 non-null  float64\n",
      " 8   loan_percent_income             45000 non-null  float64\n",
      " 9   cb_person_cred_hist_length      45000 non-null  float64\n",
      " 10  credit_score                    45000 non-null  int64  \n",
      " 11  previous_loan_defaults_on_file  45000 non-null  object \n",
      " 12  loan_status                     45000 non-null  int64  \n",
      "dtypes: float64(5), int64(3), object(5)\n",
      "memory usage: 4.8+ MB\n"
     ]
    }
   ],
   "source": [
    "loan.info() \n"
   ]
  },
  {
   "cell_type": "markdown",
   "metadata": {},
   "source": [
    "The Dataframe has 45,000 rows and 13 columns... some of which are numerical and others categorical"
   ]
  },
  {
   "cell_type": "markdown",
   "metadata": {},
   "source": [
    "### 2.3  Statistically Summarize the data"
   ]
  },
  {
   "cell_type": "code",
   "execution_count": 4,
   "metadata": {
    "scrolled": false
   },
   "outputs": [
    {
     "data": {
      "text/html": [
       "<div>\n",
       "<style scoped>\n",
       "    .dataframe tbody tr th:only-of-type {\n",
       "        vertical-align: middle;\n",
       "    }\n",
       "\n",
       "    .dataframe tbody tr th {\n",
       "        vertical-align: top;\n",
       "    }\n",
       "\n",
       "    .dataframe thead th {\n",
       "        text-align: right;\n",
       "    }\n",
       "</style>\n",
       "<table border=\"1\" class=\"dataframe\">\n",
       "  <thead>\n",
       "    <tr style=\"text-align: right;\">\n",
       "      <th></th>\n",
       "      <th>person_income</th>\n",
       "      <th>person_emp_exp</th>\n",
       "      <th>loan_amnt</th>\n",
       "      <th>loan_int_rate</th>\n",
       "      <th>loan_percent_income</th>\n",
       "      <th>cb_person_cred_hist_length</th>\n",
       "      <th>credit_score</th>\n",
       "      <th>loan_status</th>\n",
       "    </tr>\n",
       "  </thead>\n",
       "  <tbody>\n",
       "    <tr>\n",
       "      <th>count</th>\n",
       "      <td>4.500000e+04</td>\n",
       "      <td>45000.000000</td>\n",
       "      <td>45000.000000</td>\n",
       "      <td>45000.000000</td>\n",
       "      <td>45000.000000</td>\n",
       "      <td>45000.000000</td>\n",
       "      <td>45000.000000</td>\n",
       "      <td>45000.000000</td>\n",
       "    </tr>\n",
       "    <tr>\n",
       "      <th>mean</th>\n",
       "      <td>8.031905e+04</td>\n",
       "      <td>5.410333</td>\n",
       "      <td>9583.157556</td>\n",
       "      <td>11.006606</td>\n",
       "      <td>0.139725</td>\n",
       "      <td>5.867489</td>\n",
       "      <td>632.608756</td>\n",
       "      <td>0.222222</td>\n",
       "    </tr>\n",
       "    <tr>\n",
       "      <th>std</th>\n",
       "      <td>8.042250e+04</td>\n",
       "      <td>6.063532</td>\n",
       "      <td>6314.886691</td>\n",
       "      <td>2.978808</td>\n",
       "      <td>0.087212</td>\n",
       "      <td>3.879702</td>\n",
       "      <td>50.435865</td>\n",
       "      <td>0.415744</td>\n",
       "    </tr>\n",
       "    <tr>\n",
       "      <th>min</th>\n",
       "      <td>8.000000e+03</td>\n",
       "      <td>0.000000</td>\n",
       "      <td>500.000000</td>\n",
       "      <td>5.420000</td>\n",
       "      <td>0.000000</td>\n",
       "      <td>2.000000</td>\n",
       "      <td>390.000000</td>\n",
       "      <td>0.000000</td>\n",
       "    </tr>\n",
       "    <tr>\n",
       "      <th>25%</th>\n",
       "      <td>4.720400e+04</td>\n",
       "      <td>1.000000</td>\n",
       "      <td>5000.000000</td>\n",
       "      <td>8.590000</td>\n",
       "      <td>0.070000</td>\n",
       "      <td>3.000000</td>\n",
       "      <td>601.000000</td>\n",
       "      <td>0.000000</td>\n",
       "    </tr>\n",
       "    <tr>\n",
       "      <th>50%</th>\n",
       "      <td>6.704800e+04</td>\n",
       "      <td>4.000000</td>\n",
       "      <td>8000.000000</td>\n",
       "      <td>11.010000</td>\n",
       "      <td>0.120000</td>\n",
       "      <td>4.000000</td>\n",
       "      <td>640.000000</td>\n",
       "      <td>0.000000</td>\n",
       "    </tr>\n",
       "    <tr>\n",
       "      <th>75%</th>\n",
       "      <td>9.578925e+04</td>\n",
       "      <td>8.000000</td>\n",
       "      <td>12237.250000</td>\n",
       "      <td>12.990000</td>\n",
       "      <td>0.190000</td>\n",
       "      <td>8.000000</td>\n",
       "      <td>670.000000</td>\n",
       "      <td>0.000000</td>\n",
       "    </tr>\n",
       "    <tr>\n",
       "      <th>max</th>\n",
       "      <td>7.200766e+06</td>\n",
       "      <td>125.000000</td>\n",
       "      <td>35000.000000</td>\n",
       "      <td>20.000000</td>\n",
       "      <td>0.660000</td>\n",
       "      <td>30.000000</td>\n",
       "      <td>850.000000</td>\n",
       "      <td>1.000000</td>\n",
       "    </tr>\n",
       "  </tbody>\n",
       "</table>\n",
       "</div>"
      ],
      "text/plain": [
       "       person_income  person_emp_exp     loan_amnt  loan_int_rate  \\\n",
       "count   4.500000e+04    45000.000000  45000.000000   45000.000000   \n",
       "mean    8.031905e+04        5.410333   9583.157556      11.006606   \n",
       "std     8.042250e+04        6.063532   6314.886691       2.978808   \n",
       "min     8.000000e+03        0.000000    500.000000       5.420000   \n",
       "25%     4.720400e+04        1.000000   5000.000000       8.590000   \n",
       "50%     6.704800e+04        4.000000   8000.000000      11.010000   \n",
       "75%     9.578925e+04        8.000000  12237.250000      12.990000   \n",
       "max     7.200766e+06      125.000000  35000.000000      20.000000   \n",
       "\n",
       "       loan_percent_income  cb_person_cred_hist_length  credit_score  \\\n",
       "count         45000.000000                45000.000000  45000.000000   \n",
       "mean              0.139725                    5.867489    632.608756   \n",
       "std               0.087212                    3.879702     50.435865   \n",
       "min               0.000000                    2.000000    390.000000   \n",
       "25%               0.070000                    3.000000    601.000000   \n",
       "50%               0.120000                    4.000000    640.000000   \n",
       "75%               0.190000                    8.000000    670.000000   \n",
       "max               0.660000                   30.000000    850.000000   \n",
       "\n",
       "        loan_status  \n",
       "count  45000.000000  \n",
       "mean       0.222222  \n",
       "std        0.415744  \n",
       "min        0.000000  \n",
       "25%        0.000000  \n",
       "50%        0.000000  \n",
       "75%        0.000000  \n",
       "max        1.000000  "
      ]
     },
     "execution_count": 4,
     "metadata": {},
     "output_type": "execute_result"
    }
   ],
   "source": [
    "loan.describe()  \n",
    " "
   ]
  },
  {
   "cell_type": "markdown",
   "metadata": {},
   "source": [
    "### 2.4  Check for missing values"
   ]
  },
  {
   "cell_type": "code",
   "execution_count": 5,
   "metadata": {},
   "outputs": [
    {
     "data": {
      "text/plain": [
       "person_gender                     0\n",
       "person_education                  0\n",
       "person_income                     0\n",
       "person_emp_exp                    0\n",
       "person_home_ownership             0\n",
       "loan_amnt                         0\n",
       "loan_intent                       0\n",
       "loan_int_rate                     0\n",
       "loan_percent_income               0\n",
       "cb_person_cred_hist_length        0\n",
       "credit_score                      0\n",
       "previous_loan_defaults_on_file    0\n",
       "loan_status                       0\n",
       "dtype: int64"
      ]
     },
     "execution_count": 5,
     "metadata": {},
     "output_type": "execute_result"
    }
   ],
   "source": [
    "loan.isnull().sum()"
   ]
  },
  {
   "cell_type": "markdown",
   "metadata": {},
   "source": [
    "### 2.5 Check for Duplicates"
   ]
  },
  {
   "cell_type": "code",
   "execution_count": 6,
   "metadata": {},
   "outputs": [
    {
     "data": {
      "text/plain": [
       "0"
      ]
     },
     "execution_count": 6,
     "metadata": {},
     "output_type": "execute_result"
    }
   ],
   "source": [
    "loan.duplicated().sum()"
   ]
  },
  {
   "cell_type": "code",
   "execution_count": 7,
   "metadata": {},
   "outputs": [
    {
     "data": {
      "text/plain": [
       "Index(['person_gender', 'person_education', 'person_income', 'person_emp_exp',\n",
       "       'person_home_ownership', 'loan_amnt', 'loan_intent', 'loan_int_rate',\n",
       "       'loan_percent_income', 'cb_person_cred_hist_length', 'credit_score',\n",
       "       'previous_loan_defaults_on_file', 'loan_status'],\n",
       "      dtype='object')"
      ]
     },
     "execution_count": 7,
     "metadata": {},
     "output_type": "execute_result"
    }
   ],
   "source": [
    "loan.columns"
   ]
  },
  {
   "cell_type": "markdown",
   "metadata": {},
   "source": [
    "### 2.6 Checking Outliers for numeric Variables"
   ]
  },
  {
   "cell_type": "code",
   "execution_count": 8,
   "metadata": {
    "scrolled": true
   },
   "outputs": [
    {
     "data": {
      "image/png": "[encoded data removed]",
      "text/plain": [
       "<Figure size 864x576 with 6 Axes>"
      ]
     },
     "metadata": {
      "needs_background": "light"
     },
     "output_type": "display_data"
    }
   ],
   "source": [
    "#using a boxplot\n",
    "\n",
    "numerical_columns = [\n",
    "    'person_income', 'loan_amnt', 'loan_int_rate', \n",
    "    'loan_percent_income', 'cb_person_cred_hist_length', 'credit_score'\n",
    "]\n",
    "\n",
    "\n",
    "plt.figure(figsize=(12, 8))\n",
    "for i, column in enumerate(numerical_columns, 1):\n",
    "    plt.subplot(2, 3, i)\n",
    "    sns.boxplot(x=loan[column])\n",
    "    plt.title(f'Boxplot of {column}')\n",
    "plt.tight_layout()\n",
    "plt.show()\n",
    "\n",
    "\n"
   ]
  },
  {
   "cell_type": "markdown",
   "metadata": {},
   "source": [
    "# Step3.  EXPLORATORY DATA ANALYSIS(EDA)"
   ]
  },
  {
   "cell_type": "markdown",
   "metadata": {},
   "source": [
    "### 3.0 Distribution of the loan_status(target variable) column"
   ]
  },
  {
   "cell_type": "code",
   "execution_count": 9,
   "metadata": {},
   "outputs": [
    {
     "data": {
      "text/plain": [
       "loan_status\n",
       "Denied      35000\n",
       "Approved    10000\n",
       "Name: count, dtype: int64"
      ]
     },
     "execution_count": 9,
     "metadata": {},
     "output_type": "execute_result"
    }
   ],
   "source": [
    "loan['loan_status'].value_counts().rename({0: 'Denied', 1: 'Approved'})\n"
   ]
  },
  {
   "cell_type": "markdown",
   "metadata": {},
   "source": [
    "This shows that only 10,000 loans were approved.\n",
    "This suggests that there is a strong imbalance in the data, with a much higher number of denied loans compared to approved loans."
   ]
  },
  {
   "cell_type": "code",
   "execution_count": 10,
   "metadata": {},
   "outputs": [
    {
     "data": {
      "text/plain": [
       "Text(0.5, 0, 'approved')"
      ]
     },
     "execution_count": 10,
     "metadata": {},
     "output_type": "execute_result"
    },
    {
     "data": {
      "image/png": "[encoded data removed]",
      "text/plain": [
       "<Figure size 720x360 with 1 Axes>"
      ]
     },
     "metadata": {
      "needs_background": "light"
     },
     "output_type": "display_data"
    }
   ],
   "source": [
    "plt.figure(figsize = (10,5))\n",
    "sns.countplot(x = 'loan_status',data = loan)\n",
    "plt.title('distribution of approved loans vs denied')\n",
    "plt.ylabel('denied')\n",
    "plt.xlabel('approved')"
   ]
  },
  {
   "cell_type": "markdown",
   "metadata": {},
   "source": [
    "### 3.1 Categorical columns"
   ]
  },
  {
   "cell_type": "markdown",
   "metadata": {},
   "source": [
    "### (i) univariate analysis of the categorical columns"
   ]
  },
  {
   "cell_type": "code",
   "execution_count": 11,
   "metadata": {},
   "outputs": [
    {
     "data": {
      "text/html": [
       "<div>\n",
       "<style scoped>\n",
       "    .dataframe tbody tr th:only-of-type {\n",
       "        vertical-align: middle;\n",
       "    }\n",
       "\n",
       "    .dataframe tbody tr th {\n",
       "        vertical-align: top;\n",
       "    }\n",
       "\n",
       "    .dataframe thead th {\n",
       "        text-align: right;\n",
       "    }\n",
       "</style>\n",
       "<table border=\"1\" class=\"dataframe\">\n",
       "  <thead>\n",
       "    <tr style=\"text-align: right;\">\n",
       "      <th></th>\n",
       "      <th>person_gender</th>\n",
       "      <th>person_education</th>\n",
       "      <th>person_home_ownership</th>\n",
       "      <th>loan_intent</th>\n",
       "      <th>previous_loan_defaults_on_file</th>\n",
       "    </tr>\n",
       "    <tr>\n",
       "      <th>person_age</th>\n",
       "      <th></th>\n",
       "      <th></th>\n",
       "      <th></th>\n",
       "      <th></th>\n",
       "      <th></th>\n",
       "    </tr>\n",
       "  </thead>\n",
       "  <tbody>\n",
       "    <tr>\n",
       "      <th>22.0</th>\n",
       "      <td>female</td>\n",
       "      <td>Master</td>\n",
       "      <td>RENT</td>\n",
       "      <td>PERSONAL</td>\n",
       "      <td>No</td>\n",
       "    </tr>\n",
       "    <tr>\n",
       "      <th>21.0</th>\n",
       "      <td>female</td>\n",
       "      <td>High School</td>\n",
       "      <td>OWN</td>\n",
       "      <td>EDUCATION</td>\n",
       "      <td>Yes</td>\n",
       "    </tr>\n",
       "    <tr>\n",
       "      <th>25.0</th>\n",
       "      <td>female</td>\n",
       "      <td>High School</td>\n",
       "      <td>MORTGAGE</td>\n",
       "      <td>MEDICAL</td>\n",
       "      <td>No</td>\n",
       "    </tr>\n",
       "    <tr>\n",
       "      <th>23.0</th>\n",
       "      <td>female</td>\n",
       "      <td>Bachelor</td>\n",
       "      <td>RENT</td>\n",
       "      <td>MEDICAL</td>\n",
       "      <td>No</td>\n",
       "    </tr>\n",
       "    <tr>\n",
       "      <th>24.0</th>\n",
       "      <td>male</td>\n",
       "      <td>Master</td>\n",
       "      <td>RENT</td>\n",
       "      <td>MEDICAL</td>\n",
       "      <td>No</td>\n",
       "    </tr>\n",
       "    <tr>\n",
       "      <th>...</th>\n",
       "      <td>...</td>\n",
       "      <td>...</td>\n",
       "      <td>...</td>\n",
       "      <td>...</td>\n",
       "      <td>...</td>\n",
       "    </tr>\n",
       "    <tr>\n",
       "      <th>27.0</th>\n",
       "      <td>male</td>\n",
       "      <td>Associate</td>\n",
       "      <td>RENT</td>\n",
       "      <td>MEDICAL</td>\n",
       "      <td>No</td>\n",
       "    </tr>\n",
       "    <tr>\n",
       "      <th>37.0</th>\n",
       "      <td>female</td>\n",
       "      <td>Associate</td>\n",
       "      <td>RENT</td>\n",
       "      <td>HOMEIMPROVEMENT</td>\n",
       "      <td>No</td>\n",
       "    </tr>\n",
       "    <tr>\n",
       "      <th>33.0</th>\n",
       "      <td>male</td>\n",
       "      <td>Associate</td>\n",
       "      <td>RENT</td>\n",
       "      <td>DEBTCONSOLIDATION</td>\n",
       "      <td>No</td>\n",
       "    </tr>\n",
       "    <tr>\n",
       "      <th>29.0</th>\n",
       "      <td>male</td>\n",
       "      <td>Bachelor</td>\n",
       "      <td>RENT</td>\n",
       "      <td>EDUCATION</td>\n",
       "      <td>No</td>\n",
       "    </tr>\n",
       "    <tr>\n",
       "      <th>24.0</th>\n",
       "      <td>male</td>\n",
       "      <td>High School</td>\n",
       "      <td>RENT</td>\n",
       "      <td>DEBTCONSOLIDATION</td>\n",
       "      <td>No</td>\n",
       "    </tr>\n",
       "  </tbody>\n",
       "</table>\n",
       "<p>45000 rows × 5 columns</p>\n",
       "</div>"
      ],
      "text/plain": [
       "           person_gender person_education person_home_ownership  \\\n",
       "person_age                                                        \n",
       "22.0              female           Master                  RENT   \n",
       "21.0              female      High School                   OWN   \n",
       "25.0              female      High School              MORTGAGE   \n",
       "23.0              female         Bachelor                  RENT   \n",
       "24.0                male           Master                  RENT   \n",
       "...                  ...              ...                   ...   \n",
       "27.0                male        Associate                  RENT   \n",
       "37.0              female        Associate                  RENT   \n",
       "33.0                male        Associate                  RENT   \n",
       "29.0                male         Bachelor                  RENT   \n",
       "24.0                male      High School                  RENT   \n",
       "\n",
       "                  loan_intent previous_loan_defaults_on_file  \n",
       "person_age                                                    \n",
       "22.0                 PERSONAL                             No  \n",
       "21.0                EDUCATION                            Yes  \n",
       "25.0                  MEDICAL                             No  \n",
       "23.0                  MEDICAL                             No  \n",
       "24.0                  MEDICAL                             No  \n",
       "...                       ...                            ...  \n",
       "27.0                  MEDICAL                             No  \n",
       "37.0          HOMEIMPROVEMENT                             No  \n",
       "33.0        DEBTCONSOLIDATION                             No  \n",
       "29.0                EDUCATION                             No  \n",
       "24.0        DEBTCONSOLIDATION                             No  \n",
       "\n",
       "[45000 rows x 5 columns]"
      ]
     },
     "execution_count": 11,
     "metadata": {},
     "output_type": "execute_result"
    }
   ],
   "source": [
    "categorical = loan.select_dtypes(include = ['object'])\n",
    "categorical"
   ]
  },
  {
   "cell_type": "code",
   "execution_count": 12,
   "metadata": {},
   "outputs": [
    {
     "data": {
      "image/png": "[encoded data removed]",
      "text/plain": [
       "<Figure size 360x360 with 1 Axes>"
      ]
     },
     "metadata": {
      "needs_background": "light"
     },
     "output_type": "display_data"
    },
    {
     "data": {
      "image/png": "[encoded data removed]",
      "text/plain": [
       "<Figure size 360x360 with 1 Axes>"
      ]
     },
     "metadata": {
      "needs_background": "light"
     },
     "output_type": "display_data"
    },
    {
     "data": {
      "image/png": "[encoded data removed]",
      "text/plain": [
       "<Figure size 360x360 with 1 Axes>"
      ]
     },
     "metadata": {
      "needs_background": "light"
     },
     "output_type": "display_data"
    },
    {
     "data": {
      "image/png": "[encoded data removed]",
      "text/plain": [
       "<Figure size 360x360 with 1 Axes>"
      ]
     },
     "metadata": {
      "needs_background": "light"
     },
     "output_type": "display_data"
    },
    {
     "data": {
      "image/png": "[encoded data removed]",
      "text/plain": [
       "<Figure size 360x360 with 1 Axes>"
      ]
     },
     "metadata": {
      "needs_background": "light"
     },
     "output_type": "display_data"
    }
   ],
   "source": [
    "for column in categorical:\n",
    "    plt.figure(figsize = (5,5))\n",
    "    sns.countplot(x = categorical[column],data = categorical,color = \"blue\")\n",
    "    plt.title(f\"count plot for {column} \")\n",
    "    plt.ylabel(\"Frequency\")\n",
    "    plt.xticks(rotation = 45)\n",
    "    plt.xlabel(f\"{column}\")"
   ]
  },
  {
   "cell_type": "markdown",
   "metadata": {},
   "source": [
    "### (ii) Bivariate analysis for categorical columns"
   ]
  },
  {
   "cell_type": "code",
   "execution_count": 13,
   "metadata": {},
   "outputs": [
    {
     "data": {
      "image/png": "[encoded data removed]",
      "text/plain": [
       "<Figure size 720x432 with 1 Axes>"
      ]
     },
     "metadata": {
      "needs_background": "light"
     },
     "output_type": "display_data"
    },
    {
     "data": {
      "image/png": "[encoded data removed]",
      "text/plain": [
       "<Figure size 720x432 with 1 Axes>"
      ]
     },
     "metadata": {
      "needs_background": "light"
     },
     "output_type": "display_data"
    },
    {
     "data": {
      "image/png": "[encoded data removed]",
      "text/plain": [
       "<Figure size 720x432 with 1 Axes>"
      ]
     },
     "metadata": {
      "needs_background": "light"
     },
     "output_type": "display_data"
    },
    {
     "data": {
      "image/png": "[encoded data removed]",
      "text/plain": [
       "<Figure size 720x432 with 1 Axes>"
      ]
     },
     "metadata": {
      "needs_background": "light"
     },
     "output_type": "display_data"
    },
    {
     "data": {
      "image/png": "[encoded data removed]",
      "text/plain": [
       "<Figure size 720x432 with 1 Axes>"
      ]
     },
     "metadata": {
      "needs_background": "light"
     },
     "output_type": "display_data"
    }
   ],
   "source": [
    "for column in categorical:\n",
    "    plt.figure(figsize=(10, 6))  \n",
    "    \n",
    "    # Create a count plot for the current categorical column against loan_status\n",
    "    sns.countplot(x=column, hue='loan_status', data=loan, palette='Set2')\n",
    "    \n",
    "    plt.title(f\"Distribution of {column} against Loan Status\")\n",
    "    plt.xlabel(column)\n",
    "    plt.ylabel(\"Count\")\n",
    "    plt.xticks(rotation=45)  \n",
    "    plt.show()"
   ]
  },
  {
   "cell_type": "markdown",
   "metadata": {},
   "source": [
    "### 3.2 Numerical  Columns"
   ]
  },
  {
   "cell_type": "code",
   "execution_count": 14,
   "metadata": {},
   "outputs": [],
   "source": [
    "numerical_columns = loan.select_dtypes(include = \"number\")\n",
    "numerical_columns = numerical_columns.drop(columns = [\"loan_status\",\"person_income\"])"
   ]
  },
  {
   "cell_type": "code",
   "execution_count": null,
   "metadata": {
    "scrolled": true
   },
   "outputs": [],
   "source": [
    "import seaborn as sns\n",
    "import matplotlib.pyplot as plt\n",
    "\n",
    "# Visualizing relationships between features using pairplot\n",
    "sns.pairplot(loan, hue='loan_status', diag_kind='kde', palette='viridis')\n",
    "plt.suptitle('Pairplot of Loan Data', y=1.02, fontsize=16)\n",
    "plt.show()\n"
   ]
  },
  {
   "cell_type": "code",
   "execution_count": 24,
   "metadata": {},
   "outputs": [
    {
     "data": {
      "image/png": "[encoded data removed]",
      "text/plain": [
       "<Figure size 720x360 with 1 Axes>"
      ]
     },
     "metadata": {
      "needs_background": "light"
     },
     "output_type": "display_data"
    },
    {
     "data": {
      "image/png": "[encoded data removed]",
      "text/plain": [
       "<Figure size 720x360 with 1 Axes>"
      ]
     },
     "metadata": {
      "needs_background": "light"
     },
     "output_type": "display_data"
    },
    {
     "data": {
      "image/png": "[encoded data removed]",
      "text/plain": [
       "<Figure size 720x360 with 1 Axes>"
      ]
     },
     "metadata": {
      "needs_background": "light"
     },
     "output_type": "display_data"
    },
    {
     "data": {
      "image/png": "[encoded data removed]",
      "text/plain": [
       "<Figure size 720x360 with 1 Axes>"
      ]
     },
     "metadata": {
      "needs_background": "light"
     },
     "output_type": "display_data"
    },
    {
     "data": {
      "image/png": "[encoded data removed]",
      "text/plain": [
       "<Figure size 720x360 with 1 Axes>"
      ]
     },
     "metadata": {
      "needs_background": "light"
     },
     "output_type": "display_data"
    },
    {
     "data": {
      "image/png": "[encoded data removed]",
      "text/plain": [
       "<Figure size 720x360 with 1 Axes>"
      ]
     },
     "metadata": {
      "needs_background": "light"
     },
     "output_type": "display_data"
    }
   ],
   "source": [
    "for column in numerical_columns:\n",
    "    plt.figure(figsize = (10,5))\n",
    "    plt.hist(loan[column])\n",
    "    plt.title(f\"distribution of {column} \")\n",
    "    plt.xlabel(f\"{column}\")\n",
    "    plt.ylabel(\"Frequency\")\n",
    "    plt.show()"
   ]
  },
  {
   "cell_type": "markdown",
   "metadata": {},
   "source": [
    "### A scatterplot to see if wealthy individuals are borrowing larger amounts of Money"
   ]
  },
  {
   "cell_type": "code",
   "execution_count": 29,
   "metadata": {
    "scrolled": true
   },
   "outputs": [
    {
     "data": {
      "image/png": "[encoded data removed]",
      "text/plain": [
       "<Figure size 576x432 with 1 Axes>"
      ]
     },
     "metadata": {
      "needs_background": "light"
     },
     "output_type": "display_data"
    }
   ],
   "source": [
    "# person_income vs loan_amnt\n",
    "plt.figure(figsize=(8, 6))\n",
    "sns.scatterplot(x=loan['person_income'], y=loan['loan_amnt'])\n",
    "plt.title('Person Income vs Loan Amount')\n",
    "plt.xlabel('Person Income')\n",
    "plt.ylabel('Loan Amount')\n",
    "plt.grid(True)\n",
    "plt.show()\n"
   ]
  },
  {
   "cell_type": "code",
   "execution_count": 31,
   "metadata": {
    "scrolled": true
   },
   "outputs": [
    {
     "data": {
      "image/png": "[encoded data removed]",
      "text/plain": [
       "<Figure size 432x288 with 1 Axes>"
      ]
     },
     "metadata": {
      "needs_background": "light"
     },
     "output_type": "display_data"
    }
   ],
   "source": [
    "# Gender and count of loan status, bar plot\n",
    "\n",
    "sns.countplot(data=loan, x='person_gender', hue='loan_status')\n",
    "plt.xlabel('Gender')\n",
    "plt.ylabel('Count')\n",
    "plt.title('Count of Loan Status by Gender')\n",
    "plt.grid(True)\n",
    "plt.show()\n",
    "\n",
    "\n",
    "\n"
   ]
  },
  {
   "cell_type": "code",
   "execution_count": 32,
   "metadata": {},
   "outputs": [
    {
     "data": {
      "image/png": "[encoded data removed]",
      "text/plain": [
       "<Figure size 432x288 with 1 Axes>"
      ]
     },
     "metadata": {
      "needs_background": "light"
     },
     "output_type": "display_data"
    }
   ],
   "source": [
    "# personal_education and count of loan status, bar plot\n",
    "sns.countplot(data=loan, x='person_education', hue='loan_status')\n",
    "plt.xlabel('person_education')\n",
    "plt.ylabel('Count')\n",
    "plt.title('Count of Loan Status by person_education')\n",
    "plt.grid(True)\n",
    "plt.show()"
   ]
  },
  {
   "cell_type": "code",
   "execution_count": 33,
   "metadata": {},
   "outputs": [
    {
     "data": {
      "image/png": "[encoded data removed]",
      "text/plain": [
       "<Figure size 432x288 with 1 Axes>"
      ]
     },
     "metadata": {
      "needs_background": "light"
     },
     "output_type": "display_data"
    }
   ],
   "source": [
    "# person_home_ownership and count of loan status, bar plot\n",
    "sns.countplot(data=loan, x='person_home_ownership', hue='loan_status')\n",
    "plt.xlabel('person_home_ownership')\n",
    "plt.ylabel('Count')\n",
    "plt.title('Count of Loan Status by person_home_ownership')\n",
    "plt.grid(True)\n",
    "plt.show()"
   ]
  },
  {
   "cell_type": "code",
   "execution_count": 34,
   "metadata": {},
   "outputs": [
    {
     "data": {
      "image/png": "[encoded data removed]",
      "text/plain": [
       "<Figure size 432x288 with 1 Axes>"
      ]
     },
     "metadata": {
      "needs_background": "light"
     },
     "output_type": "display_data"
    }
   ],
   "source": [
    "# previous_loan_defaults_on_file and count of loan status, bar plot\n",
    "sns.countplot(data=loan, x='previous_loan_defaults_on_file', hue='loan_status')\n",
    "plt.xlabel('previous_loan_defaults_on_file')\n",
    "plt.ylabel('Count')\n",
    "plt.title('Count of Loan Status by previous_loan_defaults_on_file')\n",
    "plt.grid(True)\n",
    "plt.show()"
   ]
  },
  {
   "cell_type": "markdown",
   "metadata": {},
   "source": [
    "# Step4. DATA  PRE-PROCESSING"
   ]
  },
  {
   "cell_type": "markdown",
   "metadata": {},
   "source": [
    "### 4.0 Handling Categorical data"
   ]
  },
  {
   "cell_type": "markdown",
   "metadata": {},
   "source": [
    "Converting person_gender, person_education(ordinal), person_home_ownership, loan_intent, and previous_loan_defaults_on_file  to numerical values using encoding techniques.(OneHotEncoding and label coding for nominal and ordinal categories respectifully)"
   ]
  },
  {
   "cell_type": "code",
   "execution_count": 35,
   "metadata": {},
   "outputs": [
    {
     "data": {
      "text/html": [
       "<div>\n",
       "<style scoped>\n",
       "    .dataframe tbody tr th:only-of-type {\n",
       "        vertical-align: middle;\n",
       "    }\n",
       "\n",
       "    .dataframe tbody tr th {\n",
       "        vertical-align: top;\n",
       "    }\n",
       "\n",
       "    .dataframe thead th {\n",
       "        text-align: right;\n",
       "    }\n",
       "</style>\n",
       "<table border=\"1\" class=\"dataframe\">\n",
       "  <thead>\n",
       "    <tr style=\"text-align: right;\">\n",
       "      <th></th>\n",
       "      <th>person_income</th>\n",
       "      <th>person_emp_exp</th>\n",
       "      <th>loan_amnt</th>\n",
       "      <th>loan_int_rate</th>\n",
       "      <th>loan_percent_income</th>\n",
       "      <th>cb_person_cred_hist_length</th>\n",
       "      <th>credit_score</th>\n",
       "      <th>loan_status</th>\n",
       "      <th>person_gender_female</th>\n",
       "      <th>person_gender_male</th>\n",
       "      <th>...</th>\n",
       "      <th>person_home_ownership_OWN</th>\n",
       "      <th>person_home_ownership_RENT</th>\n",
       "      <th>loan_intent_DEBTCONSOLIDATION</th>\n",
       "      <th>loan_intent_EDUCATION</th>\n",
       "      <th>loan_intent_HOMEIMPROVEMENT</th>\n",
       "      <th>loan_intent_MEDICAL</th>\n",
       "      <th>loan_intent_PERSONAL</th>\n",
       "      <th>loan_intent_VENTURE</th>\n",
       "      <th>previous_loan_defaults_on_file_No</th>\n",
       "      <th>previous_loan_defaults_on_file_Yes</th>\n",
       "    </tr>\n",
       "    <tr>\n",
       "      <th>person_age</th>\n",
       "      <th></th>\n",
       "      <th></th>\n",
       "      <th></th>\n",
       "      <th></th>\n",
       "      <th></th>\n",
       "      <th></th>\n",
       "      <th></th>\n",
       "      <th></th>\n",
       "      <th></th>\n",
       "      <th></th>\n",
       "      <th></th>\n",
       "      <th></th>\n",
       "      <th></th>\n",
       "      <th></th>\n",
       "      <th></th>\n",
       "      <th></th>\n",
       "      <th></th>\n",
       "      <th></th>\n",
       "      <th></th>\n",
       "      <th></th>\n",
       "      <th></th>\n",
       "    </tr>\n",
       "  </thead>\n",
       "  <tbody>\n",
       "    <tr>\n",
       "      <th>22.0</th>\n",
       "      <td>71948.0</td>\n",
       "      <td>0</td>\n",
       "      <td>35000.0</td>\n",
       "      <td>16.02</td>\n",
       "      <td>0.49</td>\n",
       "      <td>3.0</td>\n",
       "      <td>561</td>\n",
       "      <td>1</td>\n",
       "      <td>True</td>\n",
       "      <td>False</td>\n",
       "      <td>...</td>\n",
       "      <td>False</td>\n",
       "      <td>True</td>\n",
       "      <td>False</td>\n",
       "      <td>False</td>\n",
       "      <td>False</td>\n",
       "      <td>False</td>\n",
       "      <td>True</td>\n",
       "      <td>False</td>\n",
       "      <td>True</td>\n",
       "      <td>False</td>\n",
       "    </tr>\n",
       "    <tr>\n",
       "      <th>21.0</th>\n",
       "      <td>12282.0</td>\n",
       "      <td>0</td>\n",
       "      <td>1000.0</td>\n",
       "      <td>11.14</td>\n",
       "      <td>0.08</td>\n",
       "      <td>2.0</td>\n",
       "      <td>504</td>\n",
       "      <td>0</td>\n",
       "      <td>True</td>\n",
       "      <td>False</td>\n",
       "      <td>...</td>\n",
       "      <td>True</td>\n",
       "      <td>False</td>\n",
       "      <td>False</td>\n",
       "      <td>True</td>\n",
       "      <td>False</td>\n",
       "      <td>False</td>\n",
       "      <td>False</td>\n",
       "      <td>False</td>\n",
       "      <td>False</td>\n",
       "      <td>True</td>\n",
       "    </tr>\n",
       "    <tr>\n",
       "      <th>25.0</th>\n",
       "      <td>12438.0</td>\n",
       "      <td>3</td>\n",
       "      <td>5500.0</td>\n",
       "      <td>12.87</td>\n",
       "      <td>0.44</td>\n",
       "      <td>3.0</td>\n",
       "      <td>635</td>\n",
       "      <td>1</td>\n",
       "      <td>True</td>\n",
       "      <td>False</td>\n",
       "      <td>...</td>\n",
       "      <td>False</td>\n",
       "      <td>False</td>\n",
       "      <td>False</td>\n",
       "      <td>False</td>\n",
       "      <td>False</td>\n",
       "      <td>True</td>\n",
       "      <td>False</td>\n",
       "      <td>False</td>\n",
       "      <td>True</td>\n",
       "      <td>False</td>\n",
       "    </tr>\n",
       "    <tr>\n",
       "      <th>23.0</th>\n",
       "      <td>79753.0</td>\n",
       "      <td>0</td>\n",
       "      <td>35000.0</td>\n",
       "      <td>15.23</td>\n",
       "      <td>0.44</td>\n",
       "      <td>2.0</td>\n",
       "      <td>675</td>\n",
       "      <td>1</td>\n",
       "      <td>True</td>\n",
       "      <td>False</td>\n",
       "      <td>...</td>\n",
       "      <td>False</td>\n",
       "      <td>True</td>\n",
       "      <td>False</td>\n",
       "      <td>False</td>\n",
       "      <td>False</td>\n",
       "      <td>True</td>\n",
       "      <td>False</td>\n",
       "      <td>False</td>\n",
       "      <td>True</td>\n",
       "      <td>False</td>\n",
       "    </tr>\n",
       "    <tr>\n",
       "      <th>24.0</th>\n",
       "      <td>66135.0</td>\n",
       "      <td>1</td>\n",
       "      <td>35000.0</td>\n",
       "      <td>14.27</td>\n",
       "      <td>0.53</td>\n",
       "      <td>4.0</td>\n",
       "      <td>586</td>\n",
       "      <td>1</td>\n",
       "      <td>False</td>\n",
       "      <td>True</td>\n",
       "      <td>...</td>\n",
       "      <td>False</td>\n",
       "      <td>True</td>\n",
       "      <td>False</td>\n",
       "      <td>False</td>\n",
       "      <td>False</td>\n",
       "      <td>True</td>\n",
       "      <td>False</td>\n",
       "      <td>False</td>\n",
       "      <td>True</td>\n",
       "      <td>False</td>\n",
       "    </tr>\n",
       "  </tbody>\n",
       "</table>\n",
       "<p>5 rows × 27 columns</p>\n",
       "</div>"
      ],
      "text/plain": [
       "            person_income  person_emp_exp  loan_amnt  loan_int_rate  \\\n",
       "person_age                                                            \n",
       "22.0              71948.0               0    35000.0          16.02   \n",
       "21.0              12282.0               0     1000.0          11.14   \n",
       "25.0              12438.0               3     5500.0          12.87   \n",
       "23.0              79753.0               0    35000.0          15.23   \n",
       "24.0              66135.0               1    35000.0          14.27   \n",
       "\n",
       "            loan_percent_income  cb_person_cred_hist_length  credit_score  \\\n",
       "person_age                                                                  \n",
       "22.0                       0.49                         3.0           561   \n",
       "21.0                       0.08                         2.0           504   \n",
       "25.0                       0.44                         3.0           635   \n",
       "23.0                       0.44                         2.0           675   \n",
       "24.0                       0.53                         4.0           586   \n",
       "\n",
       "            loan_status  person_gender_female  person_gender_male  ...  \\\n",
       "person_age                                                         ...   \n",
       "22.0                  1                  True               False  ...   \n",
       "21.0                  0                  True               False  ...   \n",
       "25.0                  1                  True               False  ...   \n",
       "23.0                  1                  True               False  ...   \n",
       "24.0                  1                 False                True  ...   \n",
       "\n",
       "            person_home_ownership_OWN  person_home_ownership_RENT  \\\n",
       "person_age                                                          \n",
       "22.0                            False                        True   \n",
       "21.0                             True                       False   \n",
       "25.0                            False                       False   \n",
       "23.0                            False                        True   \n",
       "24.0                            False                        True   \n",
       "\n",
       "            loan_intent_DEBTCONSOLIDATION  loan_intent_EDUCATION  \\\n",
       "person_age                                                         \n",
       "22.0                                False                  False   \n",
       "21.0                                False                   True   \n",
       "25.0                                False                  False   \n",
       "23.0                                False                  False   \n",
       "24.0                                False                  False   \n",
       "\n",
       "            loan_intent_HOMEIMPROVEMENT  loan_intent_MEDICAL  \\\n",
       "person_age                                                     \n",
       "22.0                              False                False   \n",
       "21.0                              False                False   \n",
       "25.0                              False                 True   \n",
       "23.0                              False                 True   \n",
       "24.0                              False                 True   \n",
       "\n",
       "            loan_intent_PERSONAL  loan_intent_VENTURE  \\\n",
       "person_age                                              \n",
       "22.0                        True                False   \n",
       "21.0                       False                False   \n",
       "25.0                       False                False   \n",
       "23.0                       False                False   \n",
       "24.0                       False                False   \n",
       "\n",
       "            previous_loan_defaults_on_file_No  \\\n",
       "person_age                                      \n",
       "22.0                                     True   \n",
       "21.0                                    False   \n",
       "25.0                                     True   \n",
       "23.0                                     True   \n",
       "24.0                                     True   \n",
       "\n",
       "            previous_loan_defaults_on_file_Yes  \n",
       "person_age                                      \n",
       "22.0                                     False  \n",
       "21.0                                      True  \n",
       "25.0                                     False  \n",
       "23.0                                     False  \n",
       "24.0                                     False  \n",
       "\n",
       "[5 rows x 27 columns]"
      ]
     },
     "execution_count": 35,
     "metadata": {},
     "output_type": "execute_result"
    }
   ],
   "source": [
    "\n",
    "categorical_columns = ['person_gender', 'person_education', 'person_home_ownership', \n",
    "                       'loan_intent', 'previous_loan_defaults_on_file']\n",
    "\n",
    "\n",
    "loan_encoded = pd.get_dummies(loan, columns=categorical_columns, drop_first=False)\n",
    "\n",
    "loan['loan_status']= loan['loan_status'].astype(int)\n",
    "\n",
    "\n",
    "loan_encoded.head()\n",
    "\n"
   ]
  },
  {
   "cell_type": "code",
   "execution_count": 36,
   "metadata": {},
   "outputs": [
    {
     "data": {
      "text/plain": [
       "Index(['person_income', 'person_emp_exp', 'loan_amnt', 'loan_int_rate',\n",
       "       'loan_percent_income', 'cb_person_cred_hist_length', 'credit_score',\n",
       "       'loan_status', 'person_gender_female', 'person_gender_male',\n",
       "       'person_education_Associate', 'person_education_Bachelor',\n",
       "       'person_education_Doctorate', 'person_education_High School',\n",
       "       'person_education_Master', 'person_home_ownership_MORTGAGE',\n",
       "       'person_home_ownership_OTHER', 'person_home_ownership_OWN',\n",
       "       'person_home_ownership_RENT', 'loan_intent_DEBTCONSOLIDATION',\n",
       "       'loan_intent_EDUCATION', 'loan_intent_HOMEIMPROVEMENT',\n",
       "       'loan_intent_MEDICAL', 'loan_intent_PERSONAL', 'loan_intent_VENTURE',\n",
       "       'previous_loan_defaults_on_file_No',\n",
       "       'previous_loan_defaults_on_file_Yes'],\n",
       "      dtype='object')"
      ]
     },
     "execution_count": 36,
     "metadata": {},
     "output_type": "execute_result"
    }
   ],
   "source": [
    "# verifying the columns after OneHotEncoding\n",
    "\n",
    "loan_encoded.columns\n"
   ]
  },
  {
   "cell_type": "markdown",
   "metadata": {},
   "source": [
    "### 4.1 Feature scaling\n",
    "standardizing / normalizing the features to ensure they all contribute to the model"
   ]
  },
  {
   "cell_type": "code",
   "execution_count": 37,
   "metadata": {},
   "outputs": [
    {
     "data": {
      "text/html": [
       "<div>\n",
       "<style scoped>\n",
       "    .dataframe tbody tr th:only-of-type {\n",
       "        vertical-align: middle;\n",
       "    }\n",
       "\n",
       "    .dataframe tbody tr th {\n",
       "        vertical-align: top;\n",
       "    }\n",
       "\n",
       "    .dataframe thead th {\n",
       "        text-align: right;\n",
       "    }\n",
       "</style>\n",
       "<table border=\"1\" class=\"dataframe\">\n",
       "  <thead>\n",
       "    <tr style=\"text-align: right;\">\n",
       "      <th></th>\n",
       "      <th>person_income</th>\n",
       "      <th>person_emp_exp</th>\n",
       "      <th>loan_amnt</th>\n",
       "      <th>loan_int_rate</th>\n",
       "      <th>loan_percent_income</th>\n",
       "      <th>cb_person_cred_hist_length</th>\n",
       "      <th>credit_score</th>\n",
       "      <th>loan_status</th>\n",
       "      <th>person_gender_female</th>\n",
       "      <th>person_gender_male</th>\n",
       "      <th>...</th>\n",
       "      <th>person_home_ownership_OWN</th>\n",
       "      <th>person_home_ownership_RENT</th>\n",
       "      <th>loan_intent_DEBTCONSOLIDATION</th>\n",
       "      <th>loan_intent_EDUCATION</th>\n",
       "      <th>loan_intent_HOMEIMPROVEMENT</th>\n",
       "      <th>loan_intent_MEDICAL</th>\n",
       "      <th>loan_intent_PERSONAL</th>\n",
       "      <th>loan_intent_VENTURE</th>\n",
       "      <th>previous_loan_defaults_on_file_No</th>\n",
       "      <th>previous_loan_defaults_on_file_Yes</th>\n",
       "    </tr>\n",
       "    <tr>\n",
       "      <th>person_age</th>\n",
       "      <th></th>\n",
       "      <th></th>\n",
       "      <th></th>\n",
       "      <th></th>\n",
       "      <th></th>\n",
       "      <th></th>\n",
       "      <th></th>\n",
       "      <th></th>\n",
       "      <th></th>\n",
       "      <th></th>\n",
       "      <th></th>\n",
       "      <th></th>\n",
       "      <th></th>\n",
       "      <th></th>\n",
       "      <th></th>\n",
       "      <th></th>\n",
       "      <th></th>\n",
       "      <th></th>\n",
       "      <th></th>\n",
       "      <th></th>\n",
       "      <th></th>\n",
       "    </tr>\n",
       "  </thead>\n",
       "  <tbody>\n",
       "    <tr>\n",
       "      <th>22.0</th>\n",
       "      <td>-0.104090</td>\n",
       "      <td>-0.892284</td>\n",
       "      <td>4.024953</td>\n",
       "      <td>1.683039</td>\n",
       "      <td>4.016394</td>\n",
       "      <td>-0.739109</td>\n",
       "      <td>-1.419814</td>\n",
       "      <td>1.870829</td>\n",
       "      <td>True</td>\n",
       "      <td>False</td>\n",
       "      <td>...</td>\n",
       "      <td>False</td>\n",
       "      <td>True</td>\n",
       "      <td>False</td>\n",
       "      <td>False</td>\n",
       "      <td>False</td>\n",
       "      <td>False</td>\n",
       "      <td>True</td>\n",
       "      <td>False</td>\n",
       "      <td>True</td>\n",
       "      <td>False</td>\n",
       "    </tr>\n",
       "    <tr>\n",
       "      <th>21.0</th>\n",
       "      <td>-0.846005</td>\n",
       "      <td>-0.892284</td>\n",
       "      <td>-1.359209</td>\n",
       "      <td>0.044782</td>\n",
       "      <td>-0.684829</td>\n",
       "      <td>-0.996863</td>\n",
       "      <td>-2.549975</td>\n",
       "      <td>-0.534522</td>\n",
       "      <td>True</td>\n",
       "      <td>False</td>\n",
       "      <td>...</td>\n",
       "      <td>True</td>\n",
       "      <td>False</td>\n",
       "      <td>False</td>\n",
       "      <td>True</td>\n",
       "      <td>False</td>\n",
       "      <td>False</td>\n",
       "      <td>False</td>\n",
       "      <td>False</td>\n",
       "      <td>False</td>\n",
       "      <td>True</td>\n",
       "    </tr>\n",
       "    <tr>\n",
       "      <th>25.0</th>\n",
       "      <td>-0.844065</td>\n",
       "      <td>-0.397517</td>\n",
       "      <td>-0.646600</td>\n",
       "      <td>0.625557</td>\n",
       "      <td>3.443074</td>\n",
       "      <td>-0.739109</td>\n",
       "      <td>0.047412</td>\n",
       "      <td>1.870829</td>\n",
       "      <td>True</td>\n",
       "      <td>False</td>\n",
       "      <td>...</td>\n",
       "      <td>False</td>\n",
       "      <td>False</td>\n",
       "      <td>False</td>\n",
       "      <td>False</td>\n",
       "      <td>False</td>\n",
       "      <td>True</td>\n",
       "      <td>False</td>\n",
       "      <td>False</td>\n",
       "      <td>True</td>\n",
       "      <td>False</td>\n",
       "    </tr>\n",
       "    <tr>\n",
       "      <th>23.0</th>\n",
       "      <td>-0.007039</td>\n",
       "      <td>-0.892284</td>\n",
       "      <td>4.024953</td>\n",
       "      <td>1.417829</td>\n",
       "      <td>3.443074</td>\n",
       "      <td>-0.996863</td>\n",
       "      <td>0.840507</td>\n",
       "      <td>1.870829</td>\n",
       "      <td>True</td>\n",
       "      <td>False</td>\n",
       "      <td>...</td>\n",
       "      <td>False</td>\n",
       "      <td>True</td>\n",
       "      <td>False</td>\n",
       "      <td>False</td>\n",
       "      <td>False</td>\n",
       "      <td>True</td>\n",
       "      <td>False</td>\n",
       "      <td>False</td>\n",
       "      <td>True</td>\n",
       "      <td>False</td>\n",
       "    </tr>\n",
       "    <tr>\n",
       "      <th>24.0</th>\n",
       "      <td>-0.176371</td>\n",
       "      <td>-0.727362</td>\n",
       "      <td>4.024953</td>\n",
       "      <td>1.095549</td>\n",
       "      <td>4.475050</td>\n",
       "      <td>-0.481354</td>\n",
       "      <td>-0.924130</td>\n",
       "      <td>1.870829</td>\n",
       "      <td>False</td>\n",
       "      <td>True</td>\n",
       "      <td>...</td>\n",
       "      <td>False</td>\n",
       "      <td>True</td>\n",
       "      <td>False</td>\n",
       "      <td>False</td>\n",
       "      <td>False</td>\n",
       "      <td>True</td>\n",
       "      <td>False</td>\n",
       "      <td>False</td>\n",
       "      <td>True</td>\n",
       "      <td>False</td>\n",
       "    </tr>\n",
       "  </tbody>\n",
       "</table>\n",
       "<p>5 rows × 27 columns</p>\n",
       "</div>"
      ],
      "text/plain": [
       "            person_income  person_emp_exp  loan_amnt  loan_int_rate  \\\n",
       "person_age                                                            \n",
       "22.0            -0.104090       -0.892284   4.024953       1.683039   \n",
       "21.0            -0.846005       -0.892284  -1.359209       0.044782   \n",
       "25.0            -0.844065       -0.397517  -0.646600       0.625557   \n",
       "23.0            -0.007039       -0.892284   4.024953       1.417829   \n",
       "24.0            -0.176371       -0.727362   4.024953       1.095549   \n",
       "\n",
       "            loan_percent_income  cb_person_cred_hist_length  credit_score  \\\n",
       "person_age                                                                  \n",
       "22.0                   4.016394                   -0.739109     -1.419814   \n",
       "21.0                  -0.684829                   -0.996863     -2.549975   \n",
       "25.0                   3.443074                   -0.739109      0.047412   \n",
       "23.0                   3.443074                   -0.996863      0.840507   \n",
       "24.0                   4.475050                   -0.481354     -0.924130   \n",
       "\n",
       "            loan_status  person_gender_female  person_gender_male  ...  \\\n",
       "person_age                                                         ...   \n",
       "22.0           1.870829                  True               False  ...   \n",
       "21.0          -0.534522                  True               False  ...   \n",
       "25.0           1.870829                  True               False  ...   \n",
       "23.0           1.870829                  True               False  ...   \n",
       "24.0           1.870829                 False                True  ...   \n",
       "\n",
       "            person_home_ownership_OWN  person_home_ownership_RENT  \\\n",
       "person_age                                                          \n",
       "22.0                            False                        True   \n",
       "21.0                             True                       False   \n",
       "25.0                            False                       False   \n",
       "23.0                            False                        True   \n",
       "24.0                            False                        True   \n",
       "\n",
       "            loan_intent_DEBTCONSOLIDATION  loan_intent_EDUCATION  \\\n",
       "person_age                                                         \n",
       "22.0                                False                  False   \n",
       "21.0                                False                   True   \n",
       "25.0                                False                  False   \n",
       "23.0                                False                  False   \n",
       "24.0                                False                  False   \n",
       "\n",
       "            loan_intent_HOMEIMPROVEMENT  loan_intent_MEDICAL  \\\n",
       "person_age                                                     \n",
       "22.0                              False                False   \n",
       "21.0                              False                False   \n",
       "25.0                              False                 True   \n",
       "23.0                              False                 True   \n",
       "24.0                              False                 True   \n",
       "\n",
       "            loan_intent_PERSONAL  loan_intent_VENTURE  \\\n",
       "person_age                                              \n",
       "22.0                        True                False   \n",
       "21.0                       False                False   \n",
       "25.0                       False                False   \n",
       "23.0                       False                False   \n",
       "24.0                       False                False   \n",
       "\n",
       "            previous_loan_defaults_on_file_No  \\\n",
       "person_age                                      \n",
       "22.0                                     True   \n",
       "21.0                                    False   \n",
       "25.0                                     True   \n",
       "23.0                                     True   \n",
       "24.0                                     True   \n",
       "\n",
       "            previous_loan_defaults_on_file_Yes  \n",
       "person_age                                      \n",
       "22.0                                     False  \n",
       "21.0                                      True  \n",
       "25.0                                     False  \n",
       "23.0                                     False  \n",
       "24.0                                     False  \n",
       "\n",
       "[5 rows x 27 columns]"
      ]
     },
     "execution_count": 37,
     "metadata": {},
     "output_type": "execute_result"
    }
   ],
   "source": [
    "# Identify numerical columns\n",
    "\n",
    "numerical_columns = loan_encoded.select_dtypes(include=[np.number]).columns\n",
    "\n",
    "# Apply Standard Scaling\n",
    "scaler = StandardScaler()\n",
    "loan_encoded[numerical_columns] = scaler.fit_transform(loan_encoded[numerical_columns])\n",
    "\n",
    "#check the scaled data\n",
    "loan_encoded.head()\n",
    "\n"
   ]
  },
  {
   "cell_type": "markdown",
   "metadata": {},
   "source": [
    "### 4.2  splitting the dataset"
   ]
  },
  {
   "cell_type": "markdown",
   "metadata": {},
   "source": [
    "### 4.2.1 Define the X(features) and y(target) variables"
   ]
  },
  {
   "cell_type": "code",
   "execution_count": 38,
   "metadata": {},
   "outputs": [
    {
     "data": {
      "text/plain": [
       "person_age\n",
       "22.0    1\n",
       "21.0    0\n",
       "25.0    1\n",
       "23.0    1\n",
       "24.0    1\n",
       "       ..\n",
       "27.0    1\n",
       "37.0    1\n",
       "33.0    1\n",
       "29.0    1\n",
       "24.0    1\n",
       "Name: loan_status, Length: 45000, dtype: int32"
      ]
     },
     "execution_count": 38,
     "metadata": {},
     "output_type": "execute_result"
    }
   ],
   "source": [
    "# define our target variable\n",
    "y= loan.loan_status\n",
    "y"
   ]
  },
  {
   "cell_type": "code",
   "execution_count": 39,
   "metadata": {
    "scrolled": true
   },
   "outputs": [
    {
     "data": {
      "text/html": [
       "<div>\n",
       "<style scoped>\n",
       "    .dataframe tbody tr th:only-of-type {\n",
       "        vertical-align: middle;\n",
       "    }\n",
       "\n",
       "    .dataframe tbody tr th {\n",
       "        vertical-align: top;\n",
       "    }\n",
       "\n",
       "    .dataframe thead th {\n",
       "        text-align: right;\n",
       "    }\n",
       "</style>\n",
       "<table border=\"1\" class=\"dataframe\">\n",
       "  <thead>\n",
       "    <tr style=\"text-align: right;\">\n",
       "      <th></th>\n",
       "      <th>person_income</th>\n",
       "      <th>person_emp_exp</th>\n",
       "      <th>loan_amnt</th>\n",
       "      <th>loan_int_rate</th>\n",
       "      <th>loan_percent_income</th>\n",
       "      <th>cb_person_cred_hist_length</th>\n",
       "      <th>credit_score</th>\n",
       "      <th>person_gender_female</th>\n",
       "      <th>person_gender_male</th>\n",
       "      <th>person_education_Associate</th>\n",
       "      <th>...</th>\n",
       "      <th>person_home_ownership_OWN</th>\n",
       "      <th>person_home_ownership_RENT</th>\n",
       "      <th>loan_intent_DEBTCONSOLIDATION</th>\n",
       "      <th>loan_intent_EDUCATION</th>\n",
       "      <th>loan_intent_HOMEIMPROVEMENT</th>\n",
       "      <th>loan_intent_MEDICAL</th>\n",
       "      <th>loan_intent_PERSONAL</th>\n",
       "      <th>loan_intent_VENTURE</th>\n",
       "      <th>previous_loan_defaults_on_file_No</th>\n",
       "      <th>previous_loan_defaults_on_file_Yes</th>\n",
       "    </tr>\n",
       "    <tr>\n",
       "      <th>person_age</th>\n",
       "      <th></th>\n",
       "      <th></th>\n",
       "      <th></th>\n",
       "      <th></th>\n",
       "      <th></th>\n",
       "      <th></th>\n",
       "      <th></th>\n",
       "      <th></th>\n",
       "      <th></th>\n",
       "      <th></th>\n",
       "      <th></th>\n",
       "      <th></th>\n",
       "      <th></th>\n",
       "      <th></th>\n",
       "      <th></th>\n",
       "      <th></th>\n",
       "      <th></th>\n",
       "      <th></th>\n",
       "      <th></th>\n",
       "      <th></th>\n",
       "      <th></th>\n",
       "    </tr>\n",
       "  </thead>\n",
       "  <tbody>\n",
       "    <tr>\n",
       "      <th>22.0</th>\n",
       "      <td>-0.104090</td>\n",
       "      <td>-0.892284</td>\n",
       "      <td>4.024953</td>\n",
       "      <td>1.683039</td>\n",
       "      <td>4.016394</td>\n",
       "      <td>-0.739109</td>\n",
       "      <td>-1.419814</td>\n",
       "      <td>True</td>\n",
       "      <td>False</td>\n",
       "      <td>False</td>\n",
       "      <td>...</td>\n",
       "      <td>False</td>\n",
       "      <td>True</td>\n",
       "      <td>False</td>\n",
       "      <td>False</td>\n",
       "      <td>False</td>\n",
       "      <td>False</td>\n",
       "      <td>True</td>\n",
       "      <td>False</td>\n",
       "      <td>True</td>\n",
       "      <td>False</td>\n",
       "    </tr>\n",
       "    <tr>\n",
       "      <th>21.0</th>\n",
       "      <td>-0.846005</td>\n",
       "      <td>-0.892284</td>\n",
       "      <td>-1.359209</td>\n",
       "      <td>0.044782</td>\n",
       "      <td>-0.684829</td>\n",
       "      <td>-0.996863</td>\n",
       "      <td>-2.549975</td>\n",
       "      <td>True</td>\n",
       "      <td>False</td>\n",
       "      <td>False</td>\n",
       "      <td>...</td>\n",
       "      <td>True</td>\n",
       "      <td>False</td>\n",
       "      <td>False</td>\n",
       "      <td>True</td>\n",
       "      <td>False</td>\n",
       "      <td>False</td>\n",
       "      <td>False</td>\n",
       "      <td>False</td>\n",
       "      <td>False</td>\n",
       "      <td>True</td>\n",
       "    </tr>\n",
       "    <tr>\n",
       "      <th>25.0</th>\n",
       "      <td>-0.844065</td>\n",
       "      <td>-0.397517</td>\n",
       "      <td>-0.646600</td>\n",
       "      <td>0.625557</td>\n",
       "      <td>3.443074</td>\n",
       "      <td>-0.739109</td>\n",
       "      <td>0.047412</td>\n",
       "      <td>True</td>\n",
       "      <td>False</td>\n",
       "      <td>False</td>\n",
       "      <td>...</td>\n",
       "      <td>False</td>\n",
       "      <td>False</td>\n",
       "      <td>False</td>\n",
       "      <td>False</td>\n",
       "      <td>False</td>\n",
       "      <td>True</td>\n",
       "      <td>False</td>\n",
       "      <td>False</td>\n",
       "      <td>True</td>\n",
       "      <td>False</td>\n",
       "    </tr>\n",
       "    <tr>\n",
       "      <th>23.0</th>\n",
       "      <td>-0.007039</td>\n",
       "      <td>-0.892284</td>\n",
       "      <td>4.024953</td>\n",
       "      <td>1.417829</td>\n",
       "      <td>3.443074</td>\n",
       "      <td>-0.996863</td>\n",
       "      <td>0.840507</td>\n",
       "      <td>True</td>\n",
       "      <td>False</td>\n",
       "      <td>False</td>\n",
       "      <td>...</td>\n",
       "      <td>False</td>\n",
       "      <td>True</td>\n",
       "      <td>False</td>\n",
       "      <td>False</td>\n",
       "      <td>False</td>\n",
       "      <td>True</td>\n",
       "      <td>False</td>\n",
       "      <td>False</td>\n",
       "      <td>True</td>\n",
       "      <td>False</td>\n",
       "    </tr>\n",
       "    <tr>\n",
       "      <th>24.0</th>\n",
       "      <td>-0.176371</td>\n",
       "      <td>-0.727362</td>\n",
       "      <td>4.024953</td>\n",
       "      <td>1.095549</td>\n",
       "      <td>4.475050</td>\n",
       "      <td>-0.481354</td>\n",
       "      <td>-0.924130</td>\n",
       "      <td>False</td>\n",
       "      <td>True</td>\n",
       "      <td>False</td>\n",
       "      <td>...</td>\n",
       "      <td>False</td>\n",
       "      <td>True</td>\n",
       "      <td>False</td>\n",
       "      <td>False</td>\n",
       "      <td>False</td>\n",
       "      <td>True</td>\n",
       "      <td>False</td>\n",
       "      <td>False</td>\n",
       "      <td>True</td>\n",
       "      <td>False</td>\n",
       "    </tr>\n",
       "    <tr>\n",
       "      <th>...</th>\n",
       "      <td>...</td>\n",
       "      <td>...</td>\n",
       "      <td>...</td>\n",
       "      <td>...</td>\n",
       "      <td>...</td>\n",
       "      <td>...</td>\n",
       "      <td>...</td>\n",
       "      <td>...</td>\n",
       "      <td>...</td>\n",
       "      <td>...</td>\n",
       "      <td>...</td>\n",
       "      <td>...</td>\n",
       "      <td>...</td>\n",
       "      <td>...</td>\n",
       "      <td>...</td>\n",
       "      <td>...</td>\n",
       "      <td>...</td>\n",
       "      <td>...</td>\n",
       "      <td>...</td>\n",
       "      <td>...</td>\n",
       "      <td>...</td>\n",
       "    </tr>\n",
       "    <tr>\n",
       "      <th>27.0</th>\n",
       "      <td>-0.402231</td>\n",
       "      <td>0.097249</td>\n",
       "      <td>0.857799</td>\n",
       "      <td>1.562184</td>\n",
       "      <td>1.952442</td>\n",
       "      <td>-0.739109</td>\n",
       "      <td>0.245686</td>\n",
       "      <td>False</td>\n",
       "      <td>True</td>\n",
       "      <td>True</td>\n",
       "      <td>...</td>\n",
       "      <td>False</td>\n",
       "      <td>True</td>\n",
       "      <td>False</td>\n",
       "      <td>False</td>\n",
       "      <td>False</td>\n",
       "      <td>True</td>\n",
       "      <td>False</td>\n",
       "      <td>False</td>\n",
       "      <td>True</td>\n",
       "      <td>False</td>\n",
       "    </tr>\n",
       "    <tr>\n",
       "      <th>37.0</th>\n",
       "      <td>-0.180537</td>\n",
       "      <td>1.911393</td>\n",
       "      <td>-0.092348</td>\n",
       "      <td>1.028407</td>\n",
       "      <td>0.003155</td>\n",
       "      <td>1.322928</td>\n",
       "      <td>-0.230171</td>\n",
       "      <td>True</td>\n",
       "      <td>False</td>\n",
       "      <td>True</td>\n",
       "      <td>...</td>\n",
       "      <td>False</td>\n",
       "      <td>True</td>\n",
       "      <td>False</td>\n",
       "      <td>False</td>\n",
       "      <td>True</td>\n",
       "      <td>False</td>\n",
       "      <td>False</td>\n",
       "      <td>False</td>\n",
       "      <td>True</td>\n",
       "      <td>False</td>\n",
       "    </tr>\n",
       "    <tr>\n",
       "      <th>33.0</th>\n",
       "      <td>-0.290681</td>\n",
       "      <td>0.262171</td>\n",
       "      <td>-1.078758</td>\n",
       "      <td>-0.331212</td>\n",
       "      <td>-1.028821</td>\n",
       "      <td>1.065174</td>\n",
       "      <td>0.701716</td>\n",
       "      <td>False</td>\n",
       "      <td>True</td>\n",
       "      <td>True</td>\n",
       "      <td>...</td>\n",
       "      <td>False</td>\n",
       "      <td>True</td>\n",
       "      <td>True</td>\n",
       "      <td>False</td>\n",
       "      <td>False</td>\n",
       "      <td>False</td>\n",
       "      <td>False</td>\n",
       "      <td>False</td>\n",
       "      <td>True</td>\n",
       "      <td>False</td>\n",
       "    </tr>\n",
       "    <tr>\n",
       "      <th>29.0</th>\n",
       "      <td>-0.586348</td>\n",
       "      <td>-0.232595</td>\n",
       "      <td>0.382726</td>\n",
       "      <td>0.746412</td>\n",
       "      <td>2.525762</td>\n",
       "      <td>0.034155</td>\n",
       "      <td>-0.567237</td>\n",
       "      <td>False</td>\n",
       "      <td>True</td>\n",
       "      <td>False</td>\n",
       "      <td>...</td>\n",
       "      <td>False</td>\n",
       "      <td>True</td>\n",
       "      <td>False</td>\n",
       "      <td>True</td>\n",
       "      <td>False</td>\n",
       "      <td>False</td>\n",
       "      <td>False</td>\n",
       "      <td>False</td>\n",
       "      <td>True</td>\n",
       "      <td>False</td>\n",
       "    </tr>\n",
       "    <tr>\n",
       "      <th>24.0</th>\n",
       "      <td>-0.356994</td>\n",
       "      <td>-0.727362</td>\n",
       "      <td>-0.462113</td>\n",
       "      <td>2.028819</td>\n",
       "      <td>-0.111509</td>\n",
       "      <td>-0.739109</td>\n",
       "      <td>-0.091380</td>\n",
       "      <td>False</td>\n",
       "      <td>True</td>\n",
       "      <td>False</td>\n",
       "      <td>...</td>\n",
       "      <td>False</td>\n",
       "      <td>True</td>\n",
       "      <td>True</td>\n",
       "      <td>False</td>\n",
       "      <td>False</td>\n",
       "      <td>False</td>\n",
       "      <td>False</td>\n",
       "      <td>False</td>\n",
       "      <td>True</td>\n",
       "      <td>False</td>\n",
       "    </tr>\n",
       "  </tbody>\n",
       "</table>\n",
       "<p>45000 rows × 26 columns</p>\n",
       "</div>"
      ],
      "text/plain": [
       "            person_income  person_emp_exp  loan_amnt  loan_int_rate  \\\n",
       "person_age                                                            \n",
       "22.0            -0.104090       -0.892284   4.024953       1.683039   \n",
       "21.0            -0.846005       -0.892284  -1.359209       0.044782   \n",
       "25.0            -0.844065       -0.397517  -0.646600       0.625557   \n",
       "23.0            -0.007039       -0.892284   4.024953       1.417829   \n",
       "24.0            -0.176371       -0.727362   4.024953       1.095549   \n",
       "...                   ...             ...        ...            ...   \n",
       "27.0            -0.402231        0.097249   0.857799       1.562184   \n",
       "37.0            -0.180537        1.911393  -0.092348       1.028407   \n",
       "33.0            -0.290681        0.262171  -1.078758      -0.331212   \n",
       "29.0            -0.586348       -0.232595   0.382726       0.746412   \n",
       "24.0            -0.356994       -0.727362  -0.462113       2.028819   \n",
       "\n",
       "            loan_percent_income  cb_person_cred_hist_length  credit_score  \\\n",
       "person_age                                                                  \n",
       "22.0                   4.016394                   -0.739109     -1.419814   \n",
       "21.0                  -0.684829                   -0.996863     -2.549975   \n",
       "25.0                   3.443074                   -0.739109      0.047412   \n",
       "23.0                   3.443074                   -0.996863      0.840507   \n",
       "24.0                   4.475050                   -0.481354     -0.924130   \n",
       "...                         ...                         ...           ...   \n",
       "27.0                   1.952442                   -0.739109      0.245686   \n",
       "37.0                   0.003155                    1.322928     -0.230171   \n",
       "33.0                  -1.028821                    1.065174      0.701716   \n",
       "29.0                   2.525762                    0.034155     -0.567237   \n",
       "24.0                  -0.111509                   -0.739109     -0.091380   \n",
       "\n",
       "            person_gender_female  person_gender_male  \\\n",
       "person_age                                             \n",
       "22.0                        True               False   \n",
       "21.0                        True               False   \n",
       "25.0                        True               False   \n",
       "23.0                        True               False   \n",
       "24.0                       False                True   \n",
       "...                          ...                 ...   \n",
       "27.0                       False                True   \n",
       "37.0                        True               False   \n",
       "33.0                       False                True   \n",
       "29.0                       False                True   \n",
       "24.0                       False                True   \n",
       "\n",
       "            person_education_Associate  ...  person_home_ownership_OWN  \\\n",
       "person_age                              ...                              \n",
       "22.0                             False  ...                      False   \n",
       "21.0                             False  ...                       True   \n",
       "25.0                             False  ...                      False   \n",
       "23.0                             False  ...                      False   \n",
       "24.0                             False  ...                      False   \n",
       "...                                ...  ...                        ...   \n",
       "27.0                              True  ...                      False   \n",
       "37.0                              True  ...                      False   \n",
       "33.0                              True  ...                      False   \n",
       "29.0                             False  ...                      False   \n",
       "24.0                             False  ...                      False   \n",
       "\n",
       "            person_home_ownership_RENT  loan_intent_DEBTCONSOLIDATION  \\\n",
       "person_age                                                              \n",
       "22.0                              True                          False   \n",
       "21.0                             False                          False   \n",
       "25.0                             False                          False   \n",
       "23.0                              True                          False   \n",
       "24.0                              True                          False   \n",
       "...                                ...                            ...   \n",
       "27.0                              True                          False   \n",
       "37.0                              True                          False   \n",
       "33.0                              True                           True   \n",
       "29.0                              True                          False   \n",
       "24.0                              True                           True   \n",
       "\n",
       "            loan_intent_EDUCATION  loan_intent_HOMEIMPROVEMENT  \\\n",
       "person_age                                                       \n",
       "22.0                        False                        False   \n",
       "21.0                         True                        False   \n",
       "25.0                        False                        False   \n",
       "23.0                        False                        False   \n",
       "24.0                        False                        False   \n",
       "...                           ...                          ...   \n",
       "27.0                        False                        False   \n",
       "37.0                        False                         True   \n",
       "33.0                        False                        False   \n",
       "29.0                         True                        False   \n",
       "24.0                        False                        False   \n",
       "\n",
       "            loan_intent_MEDICAL  loan_intent_PERSONAL  loan_intent_VENTURE  \\\n",
       "person_age                                                                   \n",
       "22.0                      False                  True                False   \n",
       "21.0                      False                 False                False   \n",
       "25.0                       True                 False                False   \n",
       "23.0                       True                 False                False   \n",
       "24.0                       True                 False                False   \n",
       "...                         ...                   ...                  ...   \n",
       "27.0                       True                 False                False   \n",
       "37.0                      False                 False                False   \n",
       "33.0                      False                 False                False   \n",
       "29.0                      False                 False                False   \n",
       "24.0                      False                 False                False   \n",
       "\n",
       "            previous_loan_defaults_on_file_No  \\\n",
       "person_age                                      \n",
       "22.0                                     True   \n",
       "21.0                                    False   \n",
       "25.0                                     True   \n",
       "23.0                                     True   \n",
       "24.0                                     True   \n",
       "...                                       ...   \n",
       "27.0                                     True   \n",
       "37.0                                     True   \n",
       "33.0                                     True   \n",
       "29.0                                     True   \n",
       "24.0                                     True   \n",
       "\n",
       "            previous_loan_defaults_on_file_Yes  \n",
       "person_age                                      \n",
       "22.0                                     False  \n",
       "21.0                                      True  \n",
       "25.0                                     False  \n",
       "23.0                                     False  \n",
       "24.0                                     False  \n",
       "...                                        ...  \n",
       "27.0                                     False  \n",
       "37.0                                     False  \n",
       "33.0                                     False  \n",
       "29.0                                     False  \n",
       "24.0                                     False  \n",
       "\n",
       "[45000 rows x 26 columns]"
      ]
     },
     "execution_count": 39,
     "metadata": {},
     "output_type": "execute_result"
    }
   ],
   "source": [
    "#defining the x variable\n",
    "X= loan_encoded.drop(['loan_status'], axis=1)\n",
    "X"
   ]
  },
  {
   "cell_type": "code",
   "execution_count": 40,
   "metadata": {},
   "outputs": [
    {
     "data": {
      "text/plain": [
       "((45000, 26), (45000,))"
      ]
     },
     "execution_count": 40,
     "metadata": {},
     "output_type": "execute_result"
    }
   ],
   "source": [
    "X.shape , y.shape"
   ]
  },
  {
   "cell_type": "code",
   "execution_count": 41,
   "metadata": {},
   "outputs": [],
   "source": [
    "# splitting the dataset\n",
    "\n",
    "X_train, X_test, y_train, y_test = train_test_split(X, y, test_size=0.2, random_state=42)"
   ]
  },
  {
   "cell_type": "code",
   "execution_count": 42,
   "metadata": {},
   "outputs": [
    {
     "name": "stdout",
     "output_type": "stream",
     "text": [
      "(36000, 26)\n",
      "(36000,)\n"
     ]
    }
   ],
   "source": [
    "#checking the data dimensions for the  train sets\n",
    "\n",
    "print(X_train.shape)\n",
    "print(y_train.shape)\n"
   ]
  },
  {
   "cell_type": "code",
   "execution_count": 43,
   "metadata": {},
   "outputs": [
    {
     "name": "stdout",
     "output_type": "stream",
     "text": [
      "(9000, 26)\n",
      "(9000,)\n"
     ]
    }
   ],
   "source": [
    "#test set dimensions\n",
    "\n",
    "print(X_test.shape)  # Features: (9000, 26)\n",
    "print(y_test.shape)  # Target: (9000,)\n"
   ]
  },
  {
   "cell_type": "markdown",
   "metadata": {},
   "source": [
    "# Step5. BUILDING THE INITIAL BASELINE MODEL"
   ]
  },
  {
   "cell_type": "code",
   "execution_count": 44,
   "metadata": {},
   "outputs": [
    {
     "data": {
      "text/plain": [
       "Index(['person_income', 'person_emp_exp', 'loan_amnt', 'loan_int_rate',\n",
       "       'loan_percent_income', 'cb_person_cred_hist_length', 'credit_score',\n",
       "       'loan_status', 'person_gender_female', 'person_gender_male',\n",
       "       'person_education_Associate', 'person_education_Bachelor',\n",
       "       'person_education_Doctorate', 'person_education_High School',\n",
       "       'person_education_Master', 'person_home_ownership_MORTGAGE',\n",
       "       'person_home_ownership_OTHER', 'person_home_ownership_OWN',\n",
       "       'person_home_ownership_RENT', 'loan_intent_DEBTCONSOLIDATION',\n",
       "       'loan_intent_EDUCATION', 'loan_intent_HOMEIMPROVEMENT',\n",
       "       'loan_intent_MEDICAL', 'loan_intent_PERSONAL', 'loan_intent_VENTURE',\n",
       "       'previous_loan_defaults_on_file_No',\n",
       "       'previous_loan_defaults_on_file_Yes'],\n",
       "      dtype='object')"
      ]
     },
     "execution_count": 44,
     "metadata": {},
     "output_type": "execute_result"
    }
   ],
   "source": [
    "loan_encoded.columns"
   ]
  },
  {
   "cell_type": "code",
   "execution_count": 45,
   "metadata": {},
   "outputs": [
    {
     "name": "stdout",
     "output_type": "stream",
     "text": [
      "K Nearest Neighbors:\n",
      " Train Score = 92.7750\n",
      " Test Score = 89.6667\n",
      "\n",
      "Xgboost:\n",
      " Train Score = 96.6722\n",
      " Test Score = 93.3000\n",
      "\n",
      "Logistic Regression:\n",
      " Train Score = 89.7000\n",
      " Test Score = 89.3667\n",
      "\n",
      "Random Forest:\n",
      " Train Score = 100.0000\n",
      " Test Score = 92.7444\n",
      "\n",
      "SVC:\n",
      " Train Score = 92.3417\n",
      " Test Score = 91.6222\n",
      "\n"
     ]
    }
   ],
   "source": [
    "models = [\n",
    "      ('K Nearest Neighbors', KNeighborsClassifier()),\n",
    "      ('Xgboost', XGBClassifier()),\n",
    "      ('Logistic Regression', LogisticRegression()),\n",
    "      ('Random Forest', RandomForestClassifier()),\n",
    "      ('SVC',SVC())\n",
    "]\n",
    "\n",
    "\n",
    "scores = []\n",
    "for name, model in models:\n",
    "    model.fit(X_train, y_train)\n",
    "    train_score = model.score(X_train, y_train)\n",
    "    test_score = model.score(X_test, y_test)\n",
    "    scores.append((name, train_score, test_score))\n",
    "# Display Model Performance\n",
    "for name, train_score, test_score in scores:\n",
    "    print(f'{name}:\\n Train Score = {train_score*100:.4f}\\n Test Score = {test_score*100:.4f}\\n')"
   ]
  },
  {
   "cell_type": "code",
   "execution_count": null,
   "metadata": {},
   "outputs": [],
   "source": []
  },
  {
   "cell_type": "code",
   "execution_count": null,
   "metadata": {},
   "outputs": [],
   "source": []
  },
  {
   "cell_type": "code",
   "execution_count": null,
   "metadata": {},
   "outputs": [],
   "source": []
  },
  {
   "cell_type": "code",
   "execution_count": null,
   "metadata": {},
   "outputs": [],
   "source": []
  },
  {
   "cell_type": "code",
   "execution_count": null,
   "metadata": {},
   "outputs": [],
   "source": []
  },
  {
   "cell_type": "code",
   "execution_count": null,
   "metadata": {},
   "outputs": [],
   "source": []
  },
  {
   "cell_type": "code",
   "execution_count": null,
   "metadata": {},
   "outputs": [],
   "source": []
  },
  {
   "cell_type": "code",
   "execution_count": null,
   "metadata": {},
   "outputs": [],
   "source": []
  },
  {
   "cell_type": "code",
   "execution_count": null,
   "metadata": {},
   "outputs": [],
   "source": []
  },
  {
   "cell_type": "code",
   "execution_count": null,
   "metadata": {},
   "outputs": [],
   "source": [
    "# Data preprocessing\n",
    "# feature scaling\n",
    "# transformation"
   ]
  },
  {
   "cell_type": "code",
   "execution_count": null,
   "metadata": {},
   "outputs": [],
   "source": [
    "# Logistic Regression\n",
    "# Decision tree\n",
    "# Random Forest"
   ]
  },
  {
   "cell_type": "code",
   "execution_count": null,
   "metadata": {},
   "outputs": [],
   "source": []
  }
 ],
 "metadata": {
  "kernelspec": {
   "display_name": "Python (learn-env)",
   "language": "python",
   "name": "learn-env"
  },
  "language_info": {
   "codemirror_mode": {
    "name": "ipython",
    "version": 3
   },
   "file_extension": ".py",
   "mimetype": "text/x-python",
   "name": "python",
   "nbconvert_exporter": "python",
   "pygments_lexer": "ipython3",
   "version": "3.8.5"
  }
 },
 "nbformat": 4,
 "nbformat_minor": 4
}
