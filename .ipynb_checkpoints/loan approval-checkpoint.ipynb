{
 "cells": [
  {
   "cell_type": "markdown",
   "metadata": {},
   "source": [
    "# BANK LOAN APPROVAL CLASSIFICATION PROJECT\n",
    "\n",
    "###  Student Name : Lilian Kaburo\n",
    "###  Student Pace : Hybrid\n",
    "###  TM : Maryann Mwikali"
   ]
  },
  {
   "cell_type": "markdown",
   "metadata": {},
   "source": [
    "# Business Understanding"
   ]
  },
  {
   "cell_type": "markdown",
   "metadata": {},
   "source": [
    "## Introduction/Overview"
   ]
  },
  {
   "cell_type": "markdown",
   "metadata": {},
   "source": [
    "In today's fast-paced financial world, banks and lenders face mounting pressure to make quick and accurate decisions about loan applications. The old-school method of manually evaluating loans, which relies heavily on human judgment and subjective criteria, tends to be slow, prone to mistakes, and inconsistent. To tackle these issues, many financial institutions are now embracing data-driven strategies, particularly machine learning, to streamline and improve the loan approval process.\n",
    "\n",
    "The Bank Loan Approval Classification Project is designed to develop a machine learning model that predicts whether a loan application should be approved or rejected based on a set of features related to the applicant's financial history, personal information, and other relevant criteria. The objective is to build a classification model that can assist bank decision-makers by providing quick, objective, and accurate recommendations for loan approval."
   ]
  },
  {
   "cell_type": "markdown",
   "metadata": {},
   "source": [
    "## Stakeholders\n",
    "1. Banks/ lending institution\n",
    "2. Risk management department\n",
    "3. Loan Officers/ Underwriting Team\n",
    "4. Customers/ Loan Applicants\n",
    "5. External Regulators (government agencies)"
   ]
  },
  {
   "cell_type": "markdown",
   "metadata": {},
   "source": [
    "## Key Objectives\n",
    "\n",
    "\n",
    "1. What is the main challenge of this project?---How can we create a predictive model to classify loan applications as either approved or denied?\n",
    "\n",
    "\n",
    "2. What key factors should the model take into account when deciding on loan approvals?---How can we include various factors such as income, credit score, loan amount, and employment status into the model to mirror the bank’s decision-making process?\n",
    "\n",
    "\n",
    "3. What data do we have available for training the model?---What features of the loan applicants (e.g., age, education level, credit history) are present in the dataset, and how do they correlate with loan approval status (approved or denied)?\n",
    "\n",
    "\n",
    "4. How can machine learning techniques be applied to address this issue?---How can we utilize machine learning methods to develop a model that accurately predicts whether a new loan application will be approved or denied?\n",
    "\n",
    "\n",
    "5. What is the main objective of this project?---How can we automate the loan approval decision-making process by developing a predictive model, and what level of accuracy is necessary for practical implementation?\n",
    "\n",
    "\n",
    "\n"
   ]
  },
  {
   "cell_type": "markdown",
   "metadata": {},
   "source": [
    "# Data Understanding\n",
    "\n",
    " The Dataset we are using is obtained from https://www.kaggle.com/datasets/. The Bank loan approval dataset contains information about the loan Applicants that will be used to determine if they get approved for a new loan or not.\n",
    " \n",
    " we are going to use this dataset to;\n",
    " \n",
    "\n",
    "1. Develop predictive models to classify loan applications as approved or denied.\n",
    "\n",
    "2. Analyze key factors that influence loan approval decisions.\n",
    "\n",
    "3. Improve the efficiency and accuracy of loan approval processes through data-driven insights.\n",
    "\n",
    "We are going to use python pandas,numpy and other python libraries to explore and understand the data more."
   ]
  },
  {
   "cell_type": "markdown",
   "metadata": {},
   "source": [
    "## Importing Libraries"
   ]
  },
  {
   "cell_type": "code",
   "execution_count": 3,
   "metadata": {},
   "outputs": [],
   "source": [
    "#import necessary libraries\n",
    "import pandas as pd\n",
    "import numpy as np\n",
    "import matplotlib.pyplot as plt\n",
    "import seaborn as sns"
   ]
  },
  {
   "cell_type": "markdown",
   "metadata": {},
   "source": [
    "## Loading the Dataset"
   ]
  },
  {
   "cell_type": "code",
   "execution_count": 4,
   "metadata": {},
   "outputs": [
    {
     "data": {
      "text/html": [
       "<div>\n",
       "<style scoped>\n",
       "    .dataframe tbody tr th:only-of-type {\n",
       "        vertical-align: middle;\n",
       "    }\n",
       "\n",
       "    .dataframe tbody tr th {\n",
       "        vertical-align: top;\n",
       "    }\n",
       "\n",
       "    .dataframe thead th {\n",
       "        text-align: right;\n",
       "    }\n",
       "</style>\n",
       "<table border=\"1\" class=\"dataframe\">\n",
       "  <thead>\n",
       "    <tr style=\"text-align: right;\">\n",
       "      <th></th>\n",
       "      <th>person_gender</th>\n",
       "      <th>person_education</th>\n",
       "      <th>person_income</th>\n",
       "      <th>person_emp_exp</th>\n",
       "      <th>person_home_ownership</th>\n",
       "      <th>loan_amnt</th>\n",
       "      <th>loan_intent</th>\n",
       "      <th>loan_int_rate</th>\n",
       "      <th>loan_percent_income</th>\n",
       "      <th>cb_person_cred_hist_length</th>\n",
       "      <th>credit_score</th>\n",
       "      <th>previous_loan_defaults_on_file</th>\n",
       "      <th>loan_status</th>\n",
       "    </tr>\n",
       "    <tr>\n",
       "      <th>person_age</th>\n",
       "      <th></th>\n",
       "      <th></th>\n",
       "      <th></th>\n",
       "      <th></th>\n",
       "      <th></th>\n",
       "      <th></th>\n",
       "      <th></th>\n",
       "      <th></th>\n",
       "      <th></th>\n",
       "      <th></th>\n",
       "      <th></th>\n",
       "      <th></th>\n",
       "      <th></th>\n",
       "    </tr>\n",
       "  </thead>\n",
       "  <tbody>\n",
       "    <tr>\n",
       "      <th>22.0</th>\n",
       "      <td>female</td>\n",
       "      <td>Master</td>\n",
       "      <td>71948.0</td>\n",
       "      <td>0</td>\n",
       "      <td>RENT</td>\n",
       "      <td>35000.0</td>\n",
       "      <td>PERSONAL</td>\n",
       "      <td>16.02</td>\n",
       "      <td>0.49</td>\n",
       "      <td>3.0</td>\n",
       "      <td>561</td>\n",
       "      <td>No</td>\n",
       "      <td>1</td>\n",
       "    </tr>\n",
       "    <tr>\n",
       "      <th>21.0</th>\n",
       "      <td>female</td>\n",
       "      <td>High School</td>\n",
       "      <td>12282.0</td>\n",
       "      <td>0</td>\n",
       "      <td>OWN</td>\n",
       "      <td>1000.0</td>\n",
       "      <td>EDUCATION</td>\n",
       "      <td>11.14</td>\n",
       "      <td>0.08</td>\n",
       "      <td>2.0</td>\n",
       "      <td>504</td>\n",
       "      <td>Yes</td>\n",
       "      <td>0</td>\n",
       "    </tr>\n",
       "    <tr>\n",
       "      <th>25.0</th>\n",
       "      <td>female</td>\n",
       "      <td>High School</td>\n",
       "      <td>12438.0</td>\n",
       "      <td>3</td>\n",
       "      <td>MORTGAGE</td>\n",
       "      <td>5500.0</td>\n",
       "      <td>MEDICAL</td>\n",
       "      <td>12.87</td>\n",
       "      <td>0.44</td>\n",
       "      <td>3.0</td>\n",
       "      <td>635</td>\n",
       "      <td>No</td>\n",
       "      <td>1</td>\n",
       "    </tr>\n",
       "    <tr>\n",
       "      <th>23.0</th>\n",
       "      <td>female</td>\n",
       "      <td>Bachelor</td>\n",
       "      <td>79753.0</td>\n",
       "      <td>0</td>\n",
       "      <td>RENT</td>\n",
       "      <td>35000.0</td>\n",
       "      <td>MEDICAL</td>\n",
       "      <td>15.23</td>\n",
       "      <td>0.44</td>\n",
       "      <td>2.0</td>\n",
       "      <td>675</td>\n",
       "      <td>No</td>\n",
       "      <td>1</td>\n",
       "    </tr>\n",
       "    <tr>\n",
       "      <th>24.0</th>\n",
       "      <td>male</td>\n",
       "      <td>Master</td>\n",
       "      <td>66135.0</td>\n",
       "      <td>1</td>\n",
       "      <td>RENT</td>\n",
       "      <td>35000.0</td>\n",
       "      <td>MEDICAL</td>\n",
       "      <td>14.27</td>\n",
       "      <td>0.53</td>\n",
       "      <td>4.0</td>\n",
       "      <td>586</td>\n",
       "      <td>No</td>\n",
       "      <td>1</td>\n",
       "    </tr>\n",
       "    <tr>\n",
       "      <th>21.0</th>\n",
       "      <td>female</td>\n",
       "      <td>High School</td>\n",
       "      <td>12951.0</td>\n",
       "      <td>0</td>\n",
       "      <td>OWN</td>\n",
       "      <td>2500.0</td>\n",
       "      <td>VENTURE</td>\n",
       "      <td>7.14</td>\n",
       "      <td>0.19</td>\n",
       "      <td>2.0</td>\n",
       "      <td>532</td>\n",
       "      <td>No</td>\n",
       "      <td>1</td>\n",
       "    </tr>\n",
       "    <tr>\n",
       "      <th>26.0</th>\n",
       "      <td>female</td>\n",
       "      <td>Bachelor</td>\n",
       "      <td>93471.0</td>\n",
       "      <td>1</td>\n",
       "      <td>RENT</td>\n",
       "      <td>35000.0</td>\n",
       "      <td>EDUCATION</td>\n",
       "      <td>12.42</td>\n",
       "      <td>0.37</td>\n",
       "      <td>3.0</td>\n",
       "      <td>701</td>\n",
       "      <td>No</td>\n",
       "      <td>1</td>\n",
       "    </tr>\n",
       "    <tr>\n",
       "      <th>24.0</th>\n",
       "      <td>female</td>\n",
       "      <td>High School</td>\n",
       "      <td>95550.0</td>\n",
       "      <td>5</td>\n",
       "      <td>RENT</td>\n",
       "      <td>35000.0</td>\n",
       "      <td>MEDICAL</td>\n",
       "      <td>11.11</td>\n",
       "      <td>0.37</td>\n",
       "      <td>4.0</td>\n",
       "      <td>585</td>\n",
       "      <td>No</td>\n",
       "      <td>1</td>\n",
       "    </tr>\n",
       "    <tr>\n",
       "      <th>24.0</th>\n",
       "      <td>female</td>\n",
       "      <td>Associate</td>\n",
       "      <td>100684.0</td>\n",
       "      <td>3</td>\n",
       "      <td>RENT</td>\n",
       "      <td>35000.0</td>\n",
       "      <td>PERSONAL</td>\n",
       "      <td>8.90</td>\n",
       "      <td>0.35</td>\n",
       "      <td>2.0</td>\n",
       "      <td>544</td>\n",
       "      <td>No</td>\n",
       "      <td>1</td>\n",
       "    </tr>\n",
       "    <tr>\n",
       "      <th>21.0</th>\n",
       "      <td>female</td>\n",
       "      <td>High School</td>\n",
       "      <td>12739.0</td>\n",
       "      <td>0</td>\n",
       "      <td>OWN</td>\n",
       "      <td>1600.0</td>\n",
       "      <td>VENTURE</td>\n",
       "      <td>14.74</td>\n",
       "      <td>0.13</td>\n",
       "      <td>3.0</td>\n",
       "      <td>640</td>\n",
       "      <td>No</td>\n",
       "      <td>1</td>\n",
       "    </tr>\n",
       "  </tbody>\n",
       "</table>\n",
       "</div>"
      ],
      "text/plain": [
       "           person_gender person_education  person_income  person_emp_exp  \\\n",
       "person_age                                                                 \n",
       "22.0              female           Master        71948.0               0   \n",
       "21.0              female      High School        12282.0               0   \n",
       "25.0              female      High School        12438.0               3   \n",
       "23.0              female         Bachelor        79753.0               0   \n",
       "24.0                male           Master        66135.0               1   \n",
       "21.0              female      High School        12951.0               0   \n",
       "26.0              female         Bachelor        93471.0               1   \n",
       "24.0              female      High School        95550.0               5   \n",
       "24.0              female        Associate       100684.0               3   \n",
       "21.0              female      High School        12739.0               0   \n",
       "\n",
       "           person_home_ownership  loan_amnt loan_intent  loan_int_rate  \\\n",
       "person_age                                                               \n",
       "22.0                        RENT    35000.0    PERSONAL          16.02   \n",
       "21.0                         OWN     1000.0   EDUCATION          11.14   \n",
       "25.0                    MORTGAGE     5500.0     MEDICAL          12.87   \n",
       "23.0                        RENT    35000.0     MEDICAL          15.23   \n",
       "24.0                        RENT    35000.0     MEDICAL          14.27   \n",
       "21.0                         OWN     2500.0     VENTURE           7.14   \n",
       "26.0                        RENT    35000.0   EDUCATION          12.42   \n",
       "24.0                        RENT    35000.0     MEDICAL          11.11   \n",
       "24.0                        RENT    35000.0    PERSONAL           8.90   \n",
       "21.0                         OWN     1600.0     VENTURE          14.74   \n",
       "\n",
       "            loan_percent_income  cb_person_cred_hist_length  credit_score  \\\n",
       "person_age                                                                  \n",
       "22.0                       0.49                         3.0           561   \n",
       "21.0                       0.08                         2.0           504   \n",
       "25.0                       0.44                         3.0           635   \n",
       "23.0                       0.44                         2.0           675   \n",
       "24.0                       0.53                         4.0           586   \n",
       "21.0                       0.19                         2.0           532   \n",
       "26.0                       0.37                         3.0           701   \n",
       "24.0                       0.37                         4.0           585   \n",
       "24.0                       0.35                         2.0           544   \n",
       "21.0                       0.13                         3.0           640   \n",
       "\n",
       "           previous_loan_defaults_on_file  loan_status  \n",
       "person_age                                              \n",
       "22.0                                   No            1  \n",
       "21.0                                  Yes            0  \n",
       "25.0                                   No            1  \n",
       "23.0                                   No            1  \n",
       "24.0                                   No            1  \n",
       "21.0                                   No            1  \n",
       "26.0                                   No            1  \n",
       "24.0                                   No            1  \n",
       "24.0                                   No            1  \n",
       "21.0                                   No            1  "
      ]
     },
     "execution_count": 4,
     "metadata": {},
     "output_type": "execute_result"
    }
   ],
   "source": [
    "# load the dataset and display the first ten rows \n",
    "data=pd.read_csv('loan_data.csv', index_col=0)\n",
    "data.head(10)"
   ]
  },
  {
   "cell_type": "markdown",
   "metadata": {},
   "source": [
    "## Get the Summary of the dataframe"
   ]
  },
  {
   "cell_type": "code",
   "execution_count": 6,
   "metadata": {},
   "outputs": [
    {
     "name": "stdout",
     "output_type": "stream",
     "text": [
      "<class 'pandas.core.frame.DataFrame'>\n",
      "Float64Index: 45000 entries, 22.0 to 24.0\n",
      "Data columns (total 13 columns):\n",
      " #   Column                          Non-Null Count  Dtype  \n",
      "---  ------                          --------------  -----  \n",
      " 0   person_gender                   45000 non-null  object \n",
      " 1   person_education                45000 non-null  object \n",
      " 2   person_income                   45000 non-null  float64\n",
      " 3   person_emp_exp                  45000 non-null  int64  \n",
      " 4   person_home_ownership           45000 non-null  object \n",
      " 5   loan_amnt                       45000 non-null  float64\n",
      " 6   loan_intent                     45000 non-null  object \n",
      " 7   loan_int_rate                   45000 non-null  float64\n",
      " 8   loan_percent_income             45000 non-null  float64\n",
      " 9   cb_person_cred_hist_length      45000 non-null  float64\n",
      " 10  credit_score                    45000 non-null  int64  \n",
      " 11  previous_loan_defaults_on_file  45000 non-null  object \n",
      " 12  loan_status                     45000 non-null  int64  \n",
      "dtypes: float64(5), int64(3), object(5)\n",
      "memory usage: 4.8+ MB\n"
     ]
    }
   ],
   "source": [
    "data.info() #checking datatypes and the rangeindex of the dataframe\n"
   ]
  },
  {
   "cell_type": "markdown",
   "metadata": {},
   "source": [
    "The Dataframe has 45,000 rows and 13 columns... some of which are numerical and others categorical"
   ]
  },
  {
   "cell_type": "markdown",
   "metadata": {},
   "source": [
    "## Statistically Summarize the data"
   ]
  },
  {
   "cell_type": "code",
   "execution_count": 7,
   "metadata": {
    "scrolled": true
   },
   "outputs": [
    {
     "name": "stdout",
     "output_type": "stream",
     "text": [
      "       person_income  person_emp_exp     loan_amnt  loan_int_rate  \\\n",
      "count   4.500000e+04    45000.000000  45000.000000   45000.000000   \n",
      "mean    8.031905e+04        5.410333   9583.157556      11.006606   \n",
      "std     8.042250e+04        6.063532   6314.886691       2.978808   \n",
      "min     8.000000e+03        0.000000    500.000000       5.420000   \n",
      "25%     4.720400e+04        1.000000   5000.000000       8.590000   \n",
      "50%     6.704800e+04        4.000000   8000.000000      11.010000   \n",
      "75%     9.578925e+04        8.000000  12237.250000      12.990000   \n",
      "max     7.200766e+06      125.000000  35000.000000      20.000000   \n",
      "\n",
      "       loan_percent_income  cb_person_cred_hist_length  credit_score  \\\n",
      "count         45000.000000                45000.000000  45000.000000   \n",
      "mean              0.139725                    5.867489    632.608756   \n",
      "std               0.087212                    3.879702     50.435865   \n",
      "min               0.000000                    2.000000    390.000000   \n",
      "25%               0.070000                    3.000000    601.000000   \n",
      "50%               0.120000                    4.000000    640.000000   \n",
      "75%               0.190000                    8.000000    670.000000   \n",
      "max               0.660000                   30.000000    850.000000   \n",
      "\n",
      "        loan_status  \n",
      "count  45000.000000  \n",
      "mean       0.222222  \n",
      "std        0.415744  \n",
      "min        0.000000  \n",
      "25%        0.000000  \n",
      "50%        0.000000  \n",
      "75%        0.000000  \n",
      "max        1.000000  \n"
     ]
    }
   ],
   "source": [
    "d =pd.DataFrame(data.describe())  \n",
    "print(d) "
   ]
  },
  {
   "cell_type": "markdown",
   "metadata": {},
   "source": [
    "## Check for missing values"
   ]
  },
  {
   "cell_type": "code",
   "execution_count": 9,
   "metadata": {},
   "outputs": [
    {
     "data": {
      "text/plain": [
       "person_gender                     0\n",
       "person_education                  0\n",
       "person_income                     0\n",
       "person_emp_exp                    0\n",
       "person_home_ownership             0\n",
       "loan_amnt                         0\n",
       "loan_intent                       0\n",
       "loan_int_rate                     0\n",
       "loan_percent_income               0\n",
       "cb_person_cred_hist_length        0\n",
       "credit_score                      0\n",
       "previous_loan_defaults_on_file    0\n",
       "loan_status                       0\n",
       "dtype: int64"
      ]
     },
     "execution_count": 9,
     "metadata": {},
     "output_type": "execute_result"
    }
   ],
   "source": [
    "data.isnull().sum()"
   ]
  },
  {
   "cell_type": "markdown",
   "metadata": {},
   "source": [
    "## Check for Duplicates"
   ]
  },
  {
   "cell_type": "code",
   "execution_count": 12,
   "metadata": {},
   "outputs": [
    {
     "name": "stdout",
     "output_type": "stream",
     "text": [
      "0\n"
     ]
    }
   ],
   "source": [
    "data.duplicated().sum()"
   ]
  },
  {
   "cell_type": "code",
   "execution_count": 15,
   "metadata": {},
   "outputs": [
    {
     "data": {
      "text/plain": [
       "Index(['person_gender', 'person_education', 'person_income', 'person_emp_exp',\n",
       "       'person_home_ownership', 'loan_amnt', 'loan_intent', 'loan_int_rate',\n",
       "       'loan_percent_income', 'cb_person_cred_hist_length', 'credit_score',\n",
       "       'previous_loan_defaults_on_file', 'loan_status'],\n",
       "      dtype='object')"
      ]
     },
     "execution_count": 15,
     "metadata": {},
     "output_type": "execute_result"
    }
   ],
   "source": [
    "data.columns"
   ]
  },
  {
   "cell_type": "raw",
   "metadata": {},
   "source": [
    "## Checking Data Distribution for numeric Variables"
   ]
  },
  {
   "cell_type": "code",
   "execution_count": null,
   "metadata": {},
   "outputs": [],
   "source": []
  },
  {
   "cell_type": "code",
   "execution_count": null,
   "metadata": {},
   "outputs": [],
   "source": []
  },
  {
   "cell_type": "code",
   "execution_count": null,
   "metadata": {},
   "outputs": [],
   "source": []
  },
  {
   "cell_type": "code",
   "execution_count": null,
   "metadata": {},
   "outputs": [],
   "source": []
  },
  {
   "cell_type": "code",
   "execution_count": null,
   "metadata": {},
   "outputs": [],
   "source": []
  },
  {
   "cell_type": "code",
   "execution_count": null,
   "metadata": {},
   "outputs": [],
   "source": []
  },
  {
   "cell_type": "code",
   "execution_count": null,
   "metadata": {},
   "outputs": [],
   "source": []
  },
  {
   "cell_type": "code",
   "execution_count": 9,
   "metadata": {},
   "outputs": [
    {
     "data": {
      "text/html": [
       "<div>\n",
       "<style scoped>\n",
       "    .dataframe tbody tr th:only-of-type {\n",
       "        vertical-align: middle;\n",
       "    }\n",
       "\n",
       "    .dataframe tbody tr th {\n",
       "        vertical-align: top;\n",
       "    }\n",
       "\n",
       "    .dataframe thead th {\n",
       "        text-align: right;\n",
       "    }\n",
       "</style>\n",
       "<table border=\"1\" class=\"dataframe\">\n",
       "  <thead>\n",
       "    <tr style=\"text-align: right;\">\n",
       "      <th></th>\n",
       "      <th>person_income</th>\n",
       "      <th>person_emp_exp</th>\n",
       "      <th>loan_amnt</th>\n",
       "      <th>loan_int_rate</th>\n",
       "      <th>loan_percent_income</th>\n",
       "      <th>cb_person_cred_hist_length</th>\n",
       "      <th>credit_score</th>\n",
       "      <th>loan_status</th>\n",
       "    </tr>\n",
       "  </thead>\n",
       "  <tbody>\n",
       "    <tr>\n",
       "      <th>person_income</th>\n",
       "      <td>1.000000</td>\n",
       "      <td>0.185987</td>\n",
       "      <td>0.242290</td>\n",
       "      <td>0.001510</td>\n",
       "      <td>-0.234177</td>\n",
       "      <td>0.124316</td>\n",
       "      <td>0.035919</td>\n",
       "      <td>-0.135808</td>\n",
       "    </tr>\n",
       "    <tr>\n",
       "      <th>person_emp_exp</th>\n",
       "      <td>0.185987</td>\n",
       "      <td>1.000000</td>\n",
       "      <td>0.044589</td>\n",
       "      <td>0.016631</td>\n",
       "      <td>-0.039862</td>\n",
       "      <td>0.824272</td>\n",
       "      <td>0.186196</td>\n",
       "      <td>-0.020481</td>\n",
       "    </tr>\n",
       "    <tr>\n",
       "      <th>loan_amnt</th>\n",
       "      <td>0.242290</td>\n",
       "      <td>0.044589</td>\n",
       "      <td>1.000000</td>\n",
       "      <td>0.146093</td>\n",
       "      <td>0.593011</td>\n",
       "      <td>0.042969</td>\n",
       "      <td>0.009074</td>\n",
       "      <td>0.107714</td>\n",
       "    </tr>\n",
       "    <tr>\n",
       "      <th>loan_int_rate</th>\n",
       "      <td>0.001510</td>\n",
       "      <td>0.016631</td>\n",
       "      <td>0.146093</td>\n",
       "      <td>1.000000</td>\n",
       "      <td>0.125209</td>\n",
       "      <td>0.018008</td>\n",
       "      <td>0.011498</td>\n",
       "      <td>0.332005</td>\n",
       "    </tr>\n",
       "    <tr>\n",
       "      <th>loan_percent_income</th>\n",
       "      <td>-0.234177</td>\n",
       "      <td>-0.039862</td>\n",
       "      <td>0.593011</td>\n",
       "      <td>0.125209</td>\n",
       "      <td>1.000000</td>\n",
       "      <td>-0.031868</td>\n",
       "      <td>-0.011483</td>\n",
       "      <td>0.384880</td>\n",
       "    </tr>\n",
       "    <tr>\n",
       "      <th>cb_person_cred_hist_length</th>\n",
       "      <td>0.124316</td>\n",
       "      <td>0.824272</td>\n",
       "      <td>0.042969</td>\n",
       "      <td>0.018008</td>\n",
       "      <td>-0.031868</td>\n",
       "      <td>1.000000</td>\n",
       "      <td>0.155204</td>\n",
       "      <td>-0.014851</td>\n",
       "    </tr>\n",
       "    <tr>\n",
       "      <th>credit_score</th>\n",
       "      <td>0.035919</td>\n",
       "      <td>0.186196</td>\n",
       "      <td>0.009074</td>\n",
       "      <td>0.011498</td>\n",
       "      <td>-0.011483</td>\n",
       "      <td>0.155204</td>\n",
       "      <td>1.000000</td>\n",
       "      <td>-0.007647</td>\n",
       "    </tr>\n",
       "    <tr>\n",
       "      <th>loan_status</th>\n",
       "      <td>-0.135808</td>\n",
       "      <td>-0.020481</td>\n",
       "      <td>0.107714</td>\n",
       "      <td>0.332005</td>\n",
       "      <td>0.384880</td>\n",
       "      <td>-0.014851</td>\n",
       "      <td>-0.007647</td>\n",
       "      <td>1.000000</td>\n",
       "    </tr>\n",
       "  </tbody>\n",
       "</table>\n",
       "</div>"
      ],
      "text/plain": [
       "                            person_income  person_emp_exp  loan_amnt  \\\n",
       "person_income                    1.000000        0.185987   0.242290   \n",
       "person_emp_exp                   0.185987        1.000000   0.044589   \n",
       "loan_amnt                        0.242290        0.044589   1.000000   \n",
       "loan_int_rate                    0.001510        0.016631   0.146093   \n",
       "loan_percent_income             -0.234177       -0.039862   0.593011   \n",
       "cb_person_cred_hist_length       0.124316        0.824272   0.042969   \n",
       "credit_score                     0.035919        0.186196   0.009074   \n",
       "loan_status                     -0.135808       -0.020481   0.107714   \n",
       "\n",
       "                            loan_int_rate  loan_percent_income  \\\n",
       "person_income                    0.001510            -0.234177   \n",
       "person_emp_exp                   0.016631            -0.039862   \n",
       "loan_amnt                        0.146093             0.593011   \n",
       "loan_int_rate                    1.000000             0.125209   \n",
       "loan_percent_income              0.125209             1.000000   \n",
       "cb_person_cred_hist_length       0.018008            -0.031868   \n",
       "credit_score                     0.011498            -0.011483   \n",
       "loan_status                      0.332005             0.384880   \n",
       "\n",
       "                            cb_person_cred_hist_length  credit_score  \\\n",
       "person_income                                 0.124316      0.035919   \n",
       "person_emp_exp                                0.824272      0.186196   \n",
       "loan_amnt                                     0.042969      0.009074   \n",
       "loan_int_rate                                 0.018008      0.011498   \n",
       "loan_percent_income                          -0.031868     -0.011483   \n",
       "cb_person_cred_hist_length                    1.000000      0.155204   \n",
       "credit_score                                  0.155204      1.000000   \n",
       "loan_status                                  -0.014851     -0.007647   \n",
       "\n",
       "                            loan_status  \n",
       "person_income                 -0.135808  \n",
       "person_emp_exp                -0.020481  \n",
       "loan_amnt                      0.107714  \n",
       "loan_int_rate                  0.332005  \n",
       "loan_percent_income            0.384880  \n",
       "cb_person_cred_hist_length    -0.014851  \n",
       "credit_score                  -0.007647  \n",
       "loan_status                    1.000000  "
      ]
     },
     "execution_count": 9,
     "metadata": {},
     "output_type": "execute_result"
    }
   ],
   "source": [
    "data.corr()"
   ]
  },
  {
   "cell_type": "code",
   "execution_count": null,
   "metadata": {},
   "outputs": [],
   "source": [
    "# Heatmap"
   ]
  },
  {
   "cell_type": "code",
   "execution_count": null,
   "metadata": {},
   "outputs": [],
   "source": [
    "# Scatterplots"
   ]
  },
  {
   "cell_type": "code",
   "execution_count": 12,
   "metadata": {},
   "outputs": [
    {
     "name": "stdout",
     "output_type": "stream",
     "text": [
      "<class 'pandas.core.frame.DataFrame'>\n",
      "Float64Index: 45000 entries, 22.0 to 24.0\n",
      "Data columns (total 13 columns):\n",
      " #   Column                          Non-Null Count  Dtype  \n",
      "---  ------                          --------------  -----  \n",
      " 0   person_gender                   45000 non-null  object \n",
      " 1   person_education                45000 non-null  object \n",
      " 2   person_income                   45000 non-null  float64\n",
      " 3   person_emp_exp                  45000 non-null  int64  \n",
      " 4   person_home_ownership           45000 non-null  object \n",
      " 5   loan_amnt                       45000 non-null  float64\n",
      " 6   loan_intent                     45000 non-null  object \n",
      " 7   loan_int_rate                   45000 non-null  float64\n",
      " 8   loan_percent_income             45000 non-null  float64\n",
      " 9   cb_person_cred_hist_length      45000 non-null  float64\n",
      " 10  credit_score                    45000 non-null  int64  \n",
      " 11  previous_loan_defaults_on_file  45000 non-null  object \n",
      " 12  loan_status                     45000 non-null  int64  \n",
      "dtypes: float64(5), int64(3), object(5)\n",
      "memory usage: 4.8+ MB\n"
     ]
    }
   ],
   "source": [
    "data.info()"
   ]
  },
  {
   "cell_type": "code",
   "execution_count": null,
   "metadata": {},
   "outputs": [],
   "source": [
    "# Gender and count of loan status, bar plot\n",
    "# personal_education and count of loan status, bar plot\n",
    "# person_home_ownership and count of loan status, bar plot\n",
    "# previous_loan_defaults_on_file and count of loan status, bar plot"
   ]
  },
  {
   "cell_type": "code",
   "execution_count": null,
   "metadata": {},
   "outputs": [],
   "source": []
  },
  {
   "cell_type": "code",
   "execution_count": null,
   "metadata": {},
   "outputs": [],
   "source": [
    "# Data preprocessing\n",
    "# feature scaling\n",
    "# transformation"
   ]
  },
  {
   "cell_type": "code",
   "execution_count": null,
   "metadata": {},
   "outputs": [],
   "source": [
    "# Logistic Regression\n",
    "# Decision tree\n",
    "# Random Forest"
   ]
  },
  {
   "cell_type": "code",
   "execution_count": null,
   "metadata": {},
   "outputs": [],
   "source": []
  }
 ],
 "metadata": {
  "kernelspec": {
   "display_name": "Python (learn-env)",
   "language": "python",
   "name": "learn-env"
  },
  "language_info": {
   "codemirror_mode": {
    "name": "ipython",
    "version": 3
   },
   "file_extension": ".py",
   "mimetype": "text/x-python",
   "name": "python",
   "nbconvert_exporter": "python",
   "pygments_lexer": "ipython3",
   "version": "3.8.5"
  }
 },
 "nbformat": 4,
 "nbformat_minor": 4
}
